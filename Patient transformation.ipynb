{
 "cells": [
  {
   "cell_type": "code",
   "execution_count": 0,
   "metadata": {
    "application/vnd.databricks.v1+cell": {
     "cellMetadata": {
      "byteLimit": 2048000,
      "rowLimit": 10000
     },
     "inputWidgets": {},
     "nuid": "593c5740-4075-4e61-ba7d-dc69e8083513",
     "showTitle": false,
     "tableResultSettingsMap": {},
     "title": ""
    }
   },
   "outputs": [
    {
     "output_type": "execute_result",
     "data": {
      "text/plain": [
       "[SecretScope(name='optumscope')]"
      ]
     },
     "execution_count": 23,
     "metadata": {},
     "output_type": "execute_result"
    }
   ],
   "source": [
    "dbutils.secrets.listScopes()"
   ]
  },
  {
   "cell_type": "code",
   "execution_count": 0,
   "metadata": {
    "application/vnd.databricks.v1+cell": {
     "cellMetadata": {
      "byteLimit": 2048000,
      "rowLimit": 10000
     },
     "inputWidgets": {},
     "nuid": "8e05ae80-21c8-4714-a7bb-158d8f64742b",
     "showTitle": false,
     "tableResultSettingsMap": {},
     "title": ""
    }
   },
   "outputs": [
    {
     "output_type": "execute_result",
     "data": {
      "text/plain": [
       "[SecretMetadata(key='cosmoskey'),\n",
       " SecretMetadata(key='onpremdbpass'),\n",
       " SecretMetadata(key='optumadlsskey'),\n",
       " SecretMetadata(key='optumskey')]"
      ]
     },
     "execution_count": 24,
     "metadata": {},
     "output_type": "execute_result"
    }
   ],
   "source": [
    "dbutils.secrets.list(scope = \"optumscope\")"
   ]
  },
  {
   "cell_type": "code",
   "execution_count": 0,
   "metadata": {
    "application/vnd.databricks.v1+cell": {
     "cellMetadata": {
      "byteLimit": 2048000,
      "rowLimit": 10000
     },
     "inputWidgets": {},
     "nuid": "f00de3a9-8ef5-4870-8de0-a1e386b3f413",
     "showTitle": false,
     "tableResultSettingsMap": {},
     "title": ""
    }
   },
   "outputs": [],
   "source": [
    "spark.conf.set(\"fs.azure.account.key.optumsadls.dfs.core.windows.net\", dbutils.secrets.get(scope = \"optumscope\", key = \"allsaccesskey\"))"
   ]
  },
  {
   "cell_type": "code",
   "execution_count": 0,
   "metadata": {
    "application/vnd.databricks.v1+cell": {
     "cellMetadata": {
      "byteLimit": 2048000,
      "rowLimit": 10000
     },
     "inputWidgets": {},
     "nuid": "cf57e9a9-6f39-435d-a40d-07dcb4ad9a6d",
     "showTitle": false,
     "tableResultSettingsMap": {},
     "title": ""
    }
   },
   "outputs": [
    {
     "output_type": "display_data",
     "data": {
      "text/html": [
       "<style scoped>\n",
       "  .table-result-container {\n",
       "    max-height: 300px;\n",
       "    overflow: auto;\n",
       "  }\n",
       "  table, th, td {\n",
       "    border: 1px solid black;\n",
       "    border-collapse: collapse;\n",
       "  }\n",
       "  th, td {\n",
       "    padding: 5px;\n",
       "  }\n",
       "  th {\n",
       "    text-align: left;\n",
       "  }\n",
       "</style><div class='table-result-container'><table class='table-result'><thead style='background-color: white'><tr><th>path</th><th>name</th><th>size</th><th>modificationTime</th></tr></thead><tbody><tr><td>abfss://optum@optumsadls.dfs.core.windows.net/bronze/Claims.json</td><td>Claims.json</td><td>16385</td><td>1731639605000</td></tr><tr><td>abfss://optum@optumsadls.dfs.core.windows.net/bronze/Hospital.csv</td><td>Hospital.csv</td><td>1528</td><td>1731639601000</td></tr><tr><td>abfss://optum@optumsadls.dfs.core.windows.net/bronze/Patient_records.csv</td><td>Patient_records.csv</td><td>5110</td><td>1731639600000</td></tr><tr><td>abfss://optum@optumsadls.dfs.core.windows.net/bronze/disease.csv</td><td>disease.csv</td><td>1489</td><td>1731639600000</td></tr><tr><td>abfss://optum@optumsadls.dfs.core.windows.net/bronze/group.csv</td><td>group.csv</td><td>4390</td><td>1731639600000</td></tr><tr><td>abfss://optum@optumsadls.dfs.core.windows.net/bronze/subgroup.csv</td><td>subgroup.csv</td><td>561</td><td>1731639600000</td></tr><tr><td>abfss://optum@optumsadls.dfs.core.windows.net/bronze/subscriber.csv</td><td>subscriber.csv</td><td>12061</td><td>1731639600000</td></tr></tbody></table></div>"
      ]
     },
     "metadata": {
      "application/vnd.databricks.v1+output": {
       "addedWidgets": {},
       "aggData": [],
       "aggError": "",
       "aggOverflow": false,
       "aggSchema": [],
       "aggSeriesLimitReached": false,
       "aggType": "",
       "arguments": {},
       "columnCustomDisplayInfos": {},
       "data": [
        [
         "abfss://optum@optumsadls.dfs.core.windows.net/bronze/Claims.json",
         "Claims.json",
         16385,
         1731639605000
        ],
        [
         "abfss://optum@optumsadls.dfs.core.windows.net/bronze/Hospital.csv",
         "Hospital.csv",
         1528,
         1731639601000
        ],
        [
         "abfss://optum@optumsadls.dfs.core.windows.net/bronze/Patient_records.csv",
         "Patient_records.csv",
         5110,
         1731639600000
        ],
        [
         "abfss://optum@optumsadls.dfs.core.windows.net/bronze/disease.csv",
         "disease.csv",
         1489,
         1731639600000
        ],
        [
         "abfss://optum@optumsadls.dfs.core.windows.net/bronze/group.csv",
         "group.csv",
         4390,
         1731639600000
        ],
        [
         "abfss://optum@optumsadls.dfs.core.windows.net/bronze/subgroup.csv",
         "subgroup.csv",
         561,
         1731639600000
        ],
        [
         "abfss://optum@optumsadls.dfs.core.windows.net/bronze/subscriber.csv",
         "subscriber.csv",
         12061,
         1731639600000
        ]
       ],
       "datasetInfos": [],
       "dbfsResultPath": null,
       "isJsonSchema": true,
       "metadata": {},
       "overflow": false,
       "plotOptions": {
        "customPlotOptions": {},
        "displayType": "table",
        "pivotAggregation": null,
        "pivotColumns": null,
        "xColumns": null,
        "yColumns": null
       },
       "removedWidgets": [],
       "schema": [
        {
         "metadata": "{}",
         "name": "path",
         "type": "\"string\""
        },
        {
         "metadata": "{}",
         "name": "name",
         "type": "\"string\""
        },
        {
         "metadata": "{}",
         "name": "size",
         "type": "\"long\""
        },
        {
         "metadata": "{}",
         "name": "modificationTime",
         "type": "\"long\""
        }
       ],
       "type": "table"
      }
     },
     "output_type": "display_data"
    }
   ],
   "source": [
    "display(dbutils.fs.ls(\"abfss://optum@optumsadls.dfs.core.windows.net/bronze/\"))"
   ]
  },
  {
   "cell_type": "code",
   "execution_count": 0,
   "metadata": {
    "application/vnd.databricks.v1+cell": {
     "cellMetadata": {
      "byteLimit": 2048000,
      "rowLimit": 10000
     },
     "inputWidgets": {},
     "nuid": "b3b326c2-3c0d-4d80-b84a-8e1dde51c261",
     "showTitle": false,
     "tableResultSettingsMap": {},
     "title": ""
    }
   },
   "outputs": [],
   "source": [
    "pat_data = spark.read.csv(\"abfss://optum@optumsadls.dfs.core.windows.net/bronze/Patient_records.csv\", header=True)"
   ]
  },
  {
   "cell_type": "code",
   "execution_count": 0,
   "metadata": {
    "application/vnd.databricks.v1+cell": {
     "cellMetadata": {
      "byteLimit": 2048000,
      "rowLimit": 10000
     },
     "inputWidgets": {},
     "nuid": "8d6bb6bf-4570-450f-a34f-99c3fd4fcfc2",
     "showTitle": false,
     "tableResultSettingsMap": {},
     "title": ""
    }
   },
   "outputs": [
    {
     "output_type": "stream",
     "name": "stdout",
     "output_type": "stream",
     "text": [
      "+----------+------------+--------------+------------------+--------------+--------------+------------+-----------+\n|Patient_id|Patient_name|patient_gender|patient_birth_date|patient_phone |disease_name  |city        |hospital_id|\n+----------+------------+--------------+------------------+--------------+--------------+------------+-----------+\n|187158    |Harbir      |Female        |1924-06-30        |+91 0112009318|Galactosemia  |Rourkela    |H1001      |\n|112766    |Brahmdev    |Female        |1948-12-20        |+91 1727749552|Bladder cancer|Tiruvottiyur|H1016      |\n|199252    |Ujjawal     |Male          |1980-04-16        |+91 8547451606|Kidney cancer |Berhampur   |H1009      |\n|133424    |Ballari     |Female        |1969-09-25        |+91 0106026841|Suicide       |Bihar Sharif|H1017      |\n|172579    |Devnath     |Female        |1946-05-01        |+91 1868774631|Food allergy  |Bidhannagar |H1019      |\n+----------+------------+--------------+------------------+--------------+--------------+------------+-----------+\nonly showing top 5 rows\n\n"
     ]
    }
   ],
   "source": [
    "pat_data.show(5,False)"
   ]
  },
  {
   "cell_type": "code",
   "execution_count": 0,
   "metadata": {
    "application/vnd.databricks.v1+cell": {
     "cellMetadata": {
      "byteLimit": 2048000,
      "rowLimit": 10000
     },
     "inputWidgets": {},
     "nuid": "f04c5945-ff4b-4073-b5df-5add719a9137",
     "showTitle": false,
     "tableResultSettingsMap": {},
     "title": ""
    }
   },
   "outputs": [
    {
     "output_type": "display_data",
     "data": {
      "text/html": [
       "<style scoped>\n",
       "  .table-result-container {\n",
       "    max-height: 300px;\n",
       "    overflow: auto;\n",
       "  }\n",
       "  table, th, td {\n",
       "    border: 1px solid black;\n",
       "    border-collapse: collapse;\n",
       "  }\n",
       "  th, td {\n",
       "    padding: 5px;\n",
       "  }\n",
       "  th {\n",
       "    text-align: left;\n",
       "  }\n",
       "</style><div class='table-result-container'><table class='table-result'><thead style='background-color: white'><tr><th>Patient_id</th><th>Patient_name</th><th>patient_gender</th><th>patient_birth_date</th><th>patient_phone</th><th>disease_name</th><th>city</th><th>hospital_id</th></tr></thead><tbody><tr><td>187158</td><td>Harbir</td><td>Female</td><td>1924-06-30</td><td>+91 0112009318</td><td>Galactosemia</td><td>Rourkela</td><td>H1001</td></tr><tr><td>112766</td><td>Brahmdev</td><td>Female</td><td>1948-12-20</td><td>+91 1727749552</td><td>Bladder cancer</td><td>Tiruvottiyur</td><td>H1016</td></tr><tr><td>199252</td><td>Ujjawal</td><td>Male</td><td>1980-04-16</td><td>+91 8547451606</td><td>Kidney cancer</td><td>Berhampur</td><td>H1009</td></tr><tr><td>133424</td><td>Ballari</td><td>Female</td><td>1969-09-25</td><td>+91 0106026841</td><td>Suicide</td><td>Bihar Sharif</td><td>H1017</td></tr><tr><td>172579</td><td>Devnath</td><td>Female</td><td>1946-05-01</td><td>+91 1868774631</td><td>Food allergy</td><td>Bidhannagar</td><td>H1019</td></tr><tr><td>171320</td><td>Atasi</td><td>Male</td><td>1967-10-02</td><td>+91 9747336855</td><td>Whiplash</td><td>Amravati</td><td>H1013</td></tr><tr><td>107794</td><td>Manish</td><td>Male</td><td>1967-06-06</td><td>+91 4354294043</td><td>Sunbathing</td><td>Panvel</td><td>H1004</td></tr><tr><td>130339</td><td>Aakar</td><td>Female</td><td>1925-03-05</td><td>+91 2777633911</td><td>Drug consumption</td><td>Bihar Sharif</td><td>H1000</td></tr><tr><td>110377</td><td>Gurudas</td><td>Male</td><td>1945-05-06</td><td>+91 1232859381</td><td>Dengue</td><td>Kamarhati</td><td>H1001</td></tr><tr><td>149367</td><td>null</td><td>Male</td><td>1925-06-12</td><td>+91 1780763280</td><td>Head banging</td><td>Bangalore</td><td>H1013</td></tr><tr><td>156168</td><td>null</td><td>Male</td><td>1976-02-03</td><td>+91 5586075345</td><td>Fanconi anaemia</td><td>Rajkot</td><td>H1004</td></tr><tr><td>114241</td><td>null</td><td>Female</td><td>1955-01-22</td><td>+91 4146391938</td><td>Breast cancer</td><td>Ghaziabad</td><td>H1015</td></tr><tr><td>146382</td><td>Dharmadaas</td><td>Male</td><td>1964-04-29</td><td>+91 6345482027</td><td>Anthrax</td><td>Bhalswa Jahangir Pur</td><td>H1019</td></tr><tr><td>132748</td><td>Brahmvir</td><td>Male</td><td>1991-11-11</td><td>+91 7316972612</td><td>Cystic fibrosis</td><td>Ambala</td><td>H1018</td></tr><tr><td>167340</td><td>null</td><td>Female</td><td>1981-01-25</td><td>+91 2960004518</td><td>Galactosemia</td><td>Surendranagar Dudhrej</td><td>H1003</td></tr><tr><td>135184</td><td>Bhagvan</td><td>Female</td><td>1966-07-24</td><td>+91 0297693485</td><td>Dengue</td><td>Bhimavaram</td><td>H1018</td></tr><tr><td>179662</td><td>Amritkala</td><td>Female</td><td>1933-11-20</td><td>+91 0537157280</td><td>Smallpox</td><td>Meerut</td><td>H1018</td></tr><tr><td>184479</td><td>Bandhu</td><td>Male</td><td>1996-10-15</td><td>+91 0695289163</td><td>Pollen allergy</td><td>Chinsurah</td><td>H1010</td></tr><tr><td>156988</td><td>Bhagavaana</td><td>Female</td><td>1935-09-16</td><td>+91 6071745855</td><td>Breast cancer</td><td>Shahjahanpur</td><td>H1012</td></tr><tr><td>132870</td><td>null</td><td>Female</td><td>1924-11-09</td><td>+91 8906694405</td><td>Glaucoma</td><td>Jabalpur</td><td>H1017</td></tr><tr><td>148137</td><td>Umang</td><td>Female</td><td>1963-07-14</td><td>+91 9485838770</td><td>Pet allergy</td><td>Haridwar</td><td>H1002</td></tr><tr><td>113280</td><td>Darsana</td><td>Male</td><td>1932-05-29</td><td>+91 7676311811</td><td>Rett Syndrome</td><td>Dibrugarh</td><td>H1019</td></tr><tr><td>134184</td><td>Prakash</td><td>Female</td><td>1923-09-15</td><td>+91 9268324471</td><td>Flu</td><td>Kottayam</td><td>H1001</td></tr><tr><td>122592</td><td>Vaijayanti</td><td>Male</td><td>1920-11-13</td><td>+91 9358851649</td><td>Cholera</td><td>Mira-Bhayandar</td><td>H1009</td></tr><tr><td>154439</td><td>Menakshi</td><td>Male</td><td>1987-03-06</td><td>+91 0531676556</td><td>Scurvy</td><td>Kamarhati</td><td>H1016</td></tr><tr><td>117945</td><td>null</td><td>Male</td><td>1955-12-24</td><td>+91 2416747182</td><td>Glaucoma</td><td>Karimnagar</td><td>H1009</td></tr><tr><td>189996</td><td>Ekant</td><td>Male</td><td>1943-08-13</td><td>+91 7686951174</td><td>Measles</td><td>Berhampore</td><td>H1003</td></tr><tr><td>146540</td><td>Chancharik</td><td>Male</td><td>1983-09-05</td><td>+91 5309364825</td><td>Scurvy</td><td>Chapra</td><td>H1012</td></tr><tr><td>156434</td><td>Pushti</td><td>Female</td><td>1935-10-15</td><td>+91 7093722203</td><td>Flu</td><td>Morbi</td><td>H1019</td></tr><tr><td>197352</td><td>Swati</td><td>Female</td><td>1987-12-11</td><td>+91 1028477510</td><td>Pet allergy</td><td>Amravati</td><td>H1019</td></tr><tr><td>138778</td><td>Upasana</td><td>Male</td><td>1956-06-01</td><td>+91 0548234943</td><td>Lymphedema</td><td>Hyderabad</td><td>H1005</td></tr><tr><td>162665</td><td>Kanhaiya</td><td>Female</td><td>1954-10-19</td><td>+91 0788738026</td><td>Alcohol consumption</td><td>Mysore</td><td>H1009</td></tr><tr><td>197503</td><td>null</td><td>Female</td><td>1968-07-02</td><td>+91 2599794460</td><td>Stroke</td><td>Gwalior</td><td>H1009</td></tr><tr><td>113476</td><td>Gensho</td><td>Male</td><td>1992-06-06</td><td>+91 4834040556</td><td>Galactosemia</td><td>Ludhiana</td><td>H1016</td></tr><tr><td>195876</td><td>Gopal</td><td>Male</td><td>1986-05-14</td><td>+91 1181471524</td><td>Vertigo</td><td>Raebareli</td><td>H1017</td></tr><tr><td>150189</td><td>Dheeman</td><td>Male</td><td>1945-05-04</td><td>+91 8239321466</td><td>Measles</td><td>Mysore</td><td>H1017</td></tr><tr><td>138861</td><td>Upasana</td><td>Female</td><td>1927-10-03</td><td>null</td><td>Heart Attack</td><td>Ratlam</td><td>H1004</td></tr><tr><td>146555</td><td>null</td><td>Male</td><td>1948-11-10</td><td>+91 8390195092</td><td>Phenylketonuria</td><td>Vadodara</td><td>H1007</td></tr><tr><td>199114</td><td>null</td><td>Female</td><td>1955-04-07</td><td>+91 7434031446</td><td>Phenylketonuria</td><td>Vijayawada</td><td>H1017</td></tr><tr><td>105758</td><td>Madhubala</td><td>Male</td><td>1937-01-11</td><td>+91 8498685882</td><td>Head banging</td><td>Jaunpur</td><td>H1003</td></tr><tr><td>109251</td><td>Anjushree</td><td>Male</td><td>1976-07-04</td><td>+91 5322869455</td><td>Choking</td><td>Ghaziabad</td><td>H1001</td></tr><tr><td>156223</td><td>null</td><td>Female</td><td>1930-11-25</td><td>null</td><td>Fanconi anaemia</td><td>Agartala</td><td>H1012</td></tr><tr><td>108576</td><td>Chakrika</td><td>Male</td><td>1964-08-05</td><td>+91 8185162879</td><td>Stroke</td><td>Ranchi</td><td>H1003</td></tr><tr><td>132947</td><td>Saroj</td><td>Female</td><td>1942-08-26</td><td>+91 5690408243</td><td>Anaemia</td><td>Muzaffarpur</td><td>H1016</td></tr><tr><td>148674</td><td>Ayushmati</td><td>Male</td><td>1932-09-20</td><td>+91 3683223970</td><td>Diabetes</td><td>Satna</td><td>H1016</td></tr><tr><td>133107</td><td>Drashti</td><td>Male</td><td>1926-07-03</td><td>+91 9447269993</td><td>Lymphedema</td><td>Saharsa</td><td>H1019</td></tr><tr><td>193137</td><td>Aayushmaan</td><td>Female</td><td>1983-11-14</td><td>+91 4464709769</td><td>Phenylketonuria</td><td>Mehsana</td><td>H1014</td></tr><tr><td>196369</td><td>null</td><td>Male</td><td>1931-02-04</td><td>+91 2973105946</td><td>Choking</td><td>Shivpuri</td><td>H1017</td></tr><tr><td>109342</td><td>Chitranjan</td><td>Female</td><td>1925-09-09</td><td>+91 5176024720</td><td>Asthma</td><td>Morbi</td><td>H1011</td></tr><tr><td>121783</td><td>Paridhi</td><td>Female</td><td>1959-03-27</td><td>+91 2139280879</td><td>Bladder cancer</td><td>Jabalpur</td><td>H1013</td></tr><tr><td>197441</td><td>Deependu</td><td>Female</td><td>1952-02-13</td><td>+91 5674176644</td><td>Lung cancer</td><td>Bareilly</td><td>H1001</td></tr><tr><td>194166</td><td>null</td><td>Male</td><td>1946-10-17</td><td>+91 9887324437</td><td>Colorectal cancer</td><td>Baranagar</td><td>H1015</td></tr><tr><td>110690</td><td>Laksman</td><td>Female</td><td>1939-05-26</td><td>+91 4504120828</td><td>Food Poisoning</td><td>Ahmednagar</td><td>H1001</td></tr><tr><td>180709</td><td>null</td><td>Male</td><td>1988-06-27</td><td>+91 6877897646</td><td>Anthrax</td><td>Pali</td><td>H1017</td></tr><tr><td>119268</td><td>Shivakari</td><td>Female</td><td>1944-11-02</td><td>+91 3740484063</td><td>Mold allergy</td><td>Hapur</td><td>H1008</td></tr><tr><td>163148</td><td>Madhu</td><td>Male</td><td>1984-10-23</td><td>+91 8367885507</td><td>Beriberi</td><td>Udaipur</td><td>H1008</td></tr><tr><td>118913</td><td>Chanak</td><td>Male</td><td>1954-08-27</td><td>+91 5093121123</td><td>Malaria</td><td>Jalandhar</td><td>H1004</td></tr><tr><td>167423</td><td>Chittesh</td><td>Male</td><td>1949-10-17</td><td>+91 1378163498</td><td>Asthma</td><td>Thoothukudi</td><td>H1019</td></tr><tr><td>141703</td><td>Nawal</td><td>Male</td><td>1940-01-22</td><td>+91 1885105576</td><td>Fractures</td><td>Bhopal</td><td>H1006</td></tr><tr><td>173518</td><td>Gajabahu</td><td>Male</td><td>1959-03-15</td><td>+91 1207869436</td><td>Malaria</td><td>Udupi</td><td>H1015</td></tr><tr><td>140394</td><td>Jitesh</td><td>Male</td><td>1983-02-03</td><td>+91 6515468035</td><td>Anthrax</td><td>Karimnagar</td><td>H1010</td></tr><tr><td>164524</td><td>null</td><td>Female</td><td>1966-09-25</td><td>+91 6477918745</td><td>Mold allergy</td><td>Kharagpur</td><td>H1015</td></tr><tr><td>198182</td><td>Lalit</td><td>Female</td><td>1924-02-15</td><td>+91 4647833992</td><td>Head banging</td><td>Tinsukia</td><td>H1017</td></tr><tr><td>115143</td><td>Anshuk</td><td>Male</td><td>1991-06-17</td><td>+91 9764690642</td><td>Drug consumption</td><td>Uluberia</td><td>H1001</td></tr><tr><td>156364</td><td>null</td><td>Male</td><td>1994-01-13</td><td>+91 8444537013</td><td>Cholera</td><td>Panihati</td><td>H1019</td></tr><tr><td>191132</td><td>Dipesh</td><td>Female</td><td>1949-04-01</td><td>+91 5851958964</td><td>Glaucoma</td><td>Kochi</td><td>H1016</td></tr><tr><td>105686</td><td>null</td><td>Male</td><td>1930-09-01</td><td>+91 7061843400</td><td>Hepatitis</td><td>Kolhapur</td><td>H1008</td></tr><tr><td>160140</td><td>Kishan</td><td>Male</td><td>1923-05-12</td><td>+91 9067652693</td><td>Rett Syndrome</td><td>Srikakulam</td><td>H1002</td></tr><tr><td>114252</td><td>null</td><td>Female</td><td>1927-02-26</td><td>+91 4984346995</td><td>Diabetes</td><td>Ambarnath</td><td>H1014</td></tr><tr><td>188365</td><td>Bhageeratha</td><td>Male</td><td>1973-03-21</td><td>+91 0590662722</td><td>Pet allergy</td><td>Sonipat</td><td>H1017</td></tr></tbody></table></div>"
      ]
     },
     "metadata": {
      "application/vnd.databricks.v1+output": {
       "addedWidgets": {},
       "aggData": [],
       "aggError": "",
       "aggOverflow": false,
       "aggSchema": [],
       "aggSeriesLimitReached": false,
       "aggType": "",
       "arguments": {},
       "columnCustomDisplayInfos": {},
       "data": [
        [
         "187158",
         "Harbir",
         "Female",
         "1924-06-30",
         "+91 0112009318",
         "Galactosemia",
         "Rourkela",
         "H1001"
        ],
        [
         "112766",
         "Brahmdev",
         "Female",
         "1948-12-20",
         "+91 1727749552",
         "Bladder cancer",
         "Tiruvottiyur",
         "H1016"
        ],
        [
         "199252",
         "Ujjawal",
         "Male",
         "1980-04-16",
         "+91 8547451606",
         "Kidney cancer",
         "Berhampur",
         "H1009"
        ],
        [
         "133424",
         "Ballari",
         "Female",
         "1969-09-25",
         "+91 0106026841",
         "Suicide",
         "Bihar Sharif",
         "H1017"
        ],
        [
         "172579",
         "Devnath",
         "Female",
         "1946-05-01",
         "+91 1868774631",
         "Food allergy",
         "Bidhannagar",
         "H1019"
        ],
        [
         "171320",
         "Atasi",
         "Male",
         "1967-10-02",
         "+91 9747336855",
         "Whiplash",
         "Amravati",
         "H1013"
        ],
        [
         "107794",
         "Manish",
         "Male",
         "1967-06-06",
         "+91 4354294043",
         "Sunbathing",
         "Panvel",
         "H1004"
        ],
        [
         "130339",
         "Aakar",
         "Female",
         "1925-03-05",
         "+91 2777633911",
         "Drug consumption",
         "Bihar Sharif",
         "H1000"
        ],
        [
         "110377",
         "Gurudas",
         "Male",
         "1945-05-06",
         "+91 1232859381",
         "Dengue",
         "Kamarhati",
         "H1001"
        ],
        [
         "149367",
         null,
         "Male",
         "1925-06-12",
         "+91 1780763280",
         "Head banging",
         "Bangalore",
         "H1013"
        ],
        [
         "156168",
         null,
         "Male",
         "1976-02-03",
         "+91 5586075345",
         "Fanconi anaemia",
         "Rajkot",
         "H1004"
        ],
        [
         "114241",
         null,
         "Female",
         "1955-01-22",
         "+91 4146391938",
         "Breast cancer",
         "Ghaziabad",
         "H1015"
        ],
        [
         "146382",
         "Dharmadaas",
         "Male",
         "1964-04-29",
         "+91 6345482027",
         "Anthrax",
         "Bhalswa Jahangir Pur",
         "H1019"
        ],
        [
         "132748",
         "Brahmvir",
         "Male",
         "1991-11-11",
         "+91 7316972612",
         "Cystic fibrosis",
         "Ambala",
         "H1018"
        ],
        [
         "167340",
         null,
         "Female",
         "1981-01-25",
         "+91 2960004518",
         "Galactosemia",
         "Surendranagar Dudhrej",
         "H1003"
        ],
        [
         "135184",
         "Bhagvan",
         "Female",
         "1966-07-24",
         "+91 0297693485",
         "Dengue",
         "Bhimavaram",
         "H1018"
        ],
        [
         "179662",
         "Amritkala",
         "Female",
         "1933-11-20",
         "+91 0537157280",
         "Smallpox",
         "Meerut",
         "H1018"
        ],
        [
         "184479",
         "Bandhu",
         "Male",
         "1996-10-15",
         "+91 0695289163",
         "Pollen allergy",
         "Chinsurah",
         "H1010"
        ],
        [
         "156988",
         "Bhagavaana",
         "Female",
         "1935-09-16",
         "+91 6071745855",
         "Breast cancer",
         "Shahjahanpur",
         "H1012"
        ],
        [
         "132870",
         null,
         "Female",
         "1924-11-09",
         "+91 8906694405",
         "Glaucoma",
         "Jabalpur",
         "H1017"
        ],
        [
         "148137",
         "Umang",
         "Female",
         "1963-07-14",
         "+91 9485838770",
         "Pet allergy",
         "Haridwar",
         "H1002"
        ],
        [
         "113280",
         "Darsana",
         "Male",
         "1932-05-29",
         "+91 7676311811",
         "Rett Syndrome",
         "Dibrugarh",
         "H1019"
        ],
        [
         "134184",
         "Prakash",
         "Female",
         "1923-09-15",
         "+91 9268324471",
         "Flu",
         "Kottayam",
         "H1001"
        ],
        [
         "122592",
         "Vaijayanti",
         "Male",
         "1920-11-13",
         "+91 9358851649",
         "Cholera",
         "Mira-Bhayandar",
         "H1009"
        ],
        [
         "154439",
         "Menakshi",
         "Male",
         "1987-03-06",
         "+91 0531676556",
         "Scurvy",
         "Kamarhati",
         "H1016"
        ],
        [
         "117945",
         null,
         "Male",
         "1955-12-24",
         "+91 2416747182",
         "Glaucoma",
         "Karimnagar",
         "H1009"
        ],
        [
         "189996",
         "Ekant",
         "Male",
         "1943-08-13",
         "+91 7686951174",
         "Measles",
         "Berhampore",
         "H1003"
        ],
        [
         "146540",
         "Chancharik",
         "Male",
         "1983-09-05",
         "+91 5309364825",
         "Scurvy",
         "Chapra",
         "H1012"
        ],
        [
         "156434",
         "Pushti",
         "Female",
         "1935-10-15",
         "+91 7093722203",
         "Flu",
         "Morbi",
         "H1019"
        ],
        [
         "197352",
         "Swati",
         "Female",
         "1987-12-11",
         "+91 1028477510",
         "Pet allergy",
         "Amravati",
         "H1019"
        ],
        [
         "138778",
         "Upasana",
         "Male",
         "1956-06-01",
         "+91 0548234943",
         "Lymphedema",
         "Hyderabad",
         "H1005"
        ],
        [
         "162665",
         "Kanhaiya",
         "Female",
         "1954-10-19",
         "+91 0788738026",
         "Alcohol consumption",
         "Mysore",
         "H1009"
        ],
        [
         "197503",
         null,
         "Female",
         "1968-07-02",
         "+91 2599794460",
         "Stroke",
         "Gwalior",
         "H1009"
        ],
        [
         "113476",
         "Gensho",
         "Male",
         "1992-06-06",
         "+91 4834040556",
         "Galactosemia",
         "Ludhiana",
         "H1016"
        ],
        [
         "195876",
         "Gopal",
         "Male",
         "1986-05-14",
         "+91 1181471524",
         "Vertigo",
         "Raebareli",
         "H1017"
        ],
        [
         "150189",
         "Dheeman",
         "Male",
         "1945-05-04",
         "+91 8239321466",
         "Measles",
         "Mysore",
         "H1017"
        ],
        [
         "138861",
         "Upasana",
         "Female",
         "1927-10-03",
         null,
         "Heart Attack",
         "Ratlam",
         "H1004"
        ],
        [
         "146555",
         null,
         "Male",
         "1948-11-10",
         "+91 8390195092",
         "Phenylketonuria",
         "Vadodara",
         "H1007"
        ],
        [
         "199114",
         null,
         "Female",
         "1955-04-07",
         "+91 7434031446",
         "Phenylketonuria",
         "Vijayawada",
         "H1017"
        ],
        [
         "105758",
         "Madhubala",
         "Male",
         "1937-01-11",
         "+91 8498685882",
         "Head banging",
         "Jaunpur",
         "H1003"
        ],
        [
         "109251",
         "Anjushree",
         "Male",
         "1976-07-04",
         "+91 5322869455",
         "Choking",
         "Ghaziabad",
         "H1001"
        ],
        [
         "156223",
         null,
         "Female",
         "1930-11-25",
         null,
         "Fanconi anaemia",
         "Agartala",
         "H1012"
        ],
        [
         "108576",
         "Chakrika",
         "Male",
         "1964-08-05",
         "+91 8185162879",
         "Stroke",
         "Ranchi",
         "H1003"
        ],
        [
         "132947",
         "Saroj",
         "Female",
         "1942-08-26",
         "+91 5690408243",
         "Anaemia",
         "Muzaffarpur",
         "H1016"
        ],
        [
         "148674",
         "Ayushmati",
         "Male",
         "1932-09-20",
         "+91 3683223970",
         "Diabetes",
         "Satna",
         "H1016"
        ],
        [
         "133107",
         "Drashti",
         "Male",
         "1926-07-03",
         "+91 9447269993",
         "Lymphedema",
         "Saharsa",
         "H1019"
        ],
        [
         "193137",
         "Aayushmaan",
         "Female",
         "1983-11-14",
         "+91 4464709769",
         "Phenylketonuria",
         "Mehsana",
         "H1014"
        ],
        [
         "196369",
         null,
         "Male",
         "1931-02-04",
         "+91 2973105946",
         "Choking",
         "Shivpuri",
         "H1017"
        ],
        [
         "109342",
         "Chitranjan",
         "Female",
         "1925-09-09",
         "+91 5176024720",
         "Asthma",
         "Morbi",
         "H1011"
        ],
        [
         "121783",
         "Paridhi",
         "Female",
         "1959-03-27",
         "+91 2139280879",
         "Bladder cancer",
         "Jabalpur",
         "H1013"
        ],
        [
         "197441",
         "Deependu",
         "Female",
         "1952-02-13",
         "+91 5674176644",
         "Lung cancer",
         "Bareilly",
         "H1001"
        ],
        [
         "194166",
         null,
         "Male",
         "1946-10-17",
         "+91 9887324437",
         "Colorectal cancer",
         "Baranagar",
         "H1015"
        ],
        [
         "110690",
         "Laksman",
         "Female",
         "1939-05-26",
         "+91 4504120828",
         "Food Poisoning",
         "Ahmednagar",
         "H1001"
        ],
        [
         "180709",
         null,
         "Male",
         "1988-06-27",
         "+91 6877897646",
         "Anthrax",
         "Pali",
         "H1017"
        ],
        [
         "119268",
         "Shivakari",
         "Female",
         "1944-11-02",
         "+91 3740484063",
         "Mold allergy",
         "Hapur",
         "H1008"
        ],
        [
         "163148",
         "Madhu",
         "Male",
         "1984-10-23",
         "+91 8367885507",
         "Beriberi",
         "Udaipur",
         "H1008"
        ],
        [
         "118913",
         "Chanak",
         "Male",
         "1954-08-27",
         "+91 5093121123",
         "Malaria",
         "Jalandhar",
         "H1004"
        ],
        [
         "167423",
         "Chittesh",
         "Male",
         "1949-10-17",
         "+91 1378163498",
         "Asthma",
         "Thoothukudi",
         "H1019"
        ],
        [
         "141703",
         "Nawal",
         "Male",
         "1940-01-22",
         "+91 1885105576",
         "Fractures",
         "Bhopal",
         "H1006"
        ],
        [
         "173518",
         "Gajabahu",
         "Male",
         "1959-03-15",
         "+91 1207869436",
         "Malaria",
         "Udupi",
         "H1015"
        ],
        [
         "140394",
         "Jitesh",
         "Male",
         "1983-02-03",
         "+91 6515468035",
         "Anthrax",
         "Karimnagar",
         "H1010"
        ],
        [
         "164524",
         null,
         "Female",
         "1966-09-25",
         "+91 6477918745",
         "Mold allergy",
         "Kharagpur",
         "H1015"
        ],
        [
         "198182",
         "Lalit",
         "Female",
         "1924-02-15",
         "+91 4647833992",
         "Head banging",
         "Tinsukia",
         "H1017"
        ],
        [
         "115143",
         "Anshuk",
         "Male",
         "1991-06-17",
         "+91 9764690642",
         "Drug consumption",
         "Uluberia",
         "H1001"
        ],
        [
         "156364",
         null,
         "Male",
         "1994-01-13",
         "+91 8444537013",
         "Cholera",
         "Panihati",
         "H1019"
        ],
        [
         "191132",
         "Dipesh",
         "Female",
         "1949-04-01",
         "+91 5851958964",
         "Glaucoma",
         "Kochi",
         "H1016"
        ],
        [
         "105686",
         null,
         "Male",
         "1930-09-01",
         "+91 7061843400",
         "Hepatitis",
         "Kolhapur",
         "H1008"
        ],
        [
         "160140",
         "Kishan",
         "Male",
         "1923-05-12",
         "+91 9067652693",
         "Rett Syndrome",
         "Srikakulam",
         "H1002"
        ],
        [
         "114252",
         null,
         "Female",
         "1927-02-26",
         "+91 4984346995",
         "Diabetes",
         "Ambarnath",
         "H1014"
        ],
        [
         "188365",
         "Bhageeratha",
         "Male",
         "1973-03-21",
         "+91 0590662722",
         "Pet allergy",
         "Sonipat",
         "H1017"
        ]
       ],
       "datasetInfos": [],
       "dbfsResultPath": null,
       "isJsonSchema": true,
       "metadata": {},
       "overflow": false,
       "plotOptions": {
        "customPlotOptions": {},
        "displayType": "table",
        "pivotAggregation": null,
        "pivotColumns": null,
        "xColumns": null,
        "yColumns": null
       },
       "removedWidgets": [],
       "schema": [
        {
         "metadata": "{}",
         "name": "Patient_id",
         "type": "\"string\""
        },
        {
         "metadata": "{}",
         "name": "Patient_name",
         "type": "\"string\""
        },
        {
         "metadata": "{}",
         "name": "patient_gender",
         "type": "\"string\""
        },
        {
         "metadata": "{}",
         "name": "patient_birth_date",
         "type": "\"string\""
        },
        {
         "metadata": "{}",
         "name": "patient_phone",
         "type": "\"string\""
        },
        {
         "metadata": "{}",
         "name": "disease_name",
         "type": "\"string\""
        },
        {
         "metadata": "{}",
         "name": "city",
         "type": "\"string\""
        },
        {
         "metadata": "{}",
         "name": "hospital_id",
         "type": "\"string\""
        }
       ],
       "type": "table"
      }
     },
     "output_type": "display_data"
    }
   ],
   "source": [
    "display(pat_data)"
   ]
  },
  {
   "cell_type": "code",
   "execution_count": 0,
   "metadata": {
    "application/vnd.databricks.v1+cell": {
     "cellMetadata": {
      "byteLimit": 2048000,
      "rowLimit": 10000
     },
     "inputWidgets": {},
     "nuid": "ff9994c4-cd01-4236-b625-39b390c3beea",
     "showTitle": false,
     "tableResultSettingsMap": {},
     "title": ""
    }
   },
   "outputs": [],
   "source": [
    "from pyspark.sql.functions import *"
   ]
  },
  {
   "cell_type": "code",
   "execution_count": 0,
   "metadata": {
    "application/vnd.databricks.v1+cell": {
     "cellMetadata": {
      "byteLimit": 2048000,
      "rowLimit": 10000
     },
     "inputWidgets": {},
     "nuid": "7b59832b-8b11-4b8f-a405-db8365d86174",
     "showTitle": false,
     "tableResultSettingsMap": {},
     "title": ""
    }
   },
   "outputs": [
    {
     "output_type": "stream",
     "name": "stdout",
     "output_type": "stream",
     "text": [
      "+----------+------------+--------------+------------------+-------------+------------+----+-----------+\n|Patient_id|Patient_name|patient_gender|patient_birth_date|patient_phone|disease_name|city|hospital_id|\n+----------+------------+--------------+------------------+-------------+------------+----+-----------+\n|         0|          17|             0|                 0|            2|           0|   0|          0|\n+----------+------------+--------------+------------------+-------------+------------+----+-----------+\n\n"
     ]
    }
   ],
   "source": [
    "pat_data.select([count(when(isnan(c) | col(c).isNull(),c)).alias(c) for c in pat_data.columns]).show(6)"
   ]
  },
  {
   "cell_type": "code",
   "execution_count": 0,
   "metadata": {
    "application/vnd.databricks.v1+cell": {
     "cellMetadata": {
      "byteLimit": 2048000,
      "rowLimit": 10000
     },
     "inputWidgets": {},
     "nuid": "7e299e7a-35d5-4db0-8fcc-617e7eecd914",
     "showTitle": false,
     "tableResultSettingsMap": {},
     "title": ""
    }
   },
   "outputs": [],
   "source": [
    "pat_data = pat_data.fillna({'Patient_name':\"Visitor/NA\"})"
   ]
  },
  {
   "cell_type": "code",
   "execution_count": 0,
   "metadata": {
    "application/vnd.databricks.v1+cell": {
     "cellMetadata": {
      "byteLimit": 2048000,
      "rowLimit": 10000
     },
     "inputWidgets": {},
     "nuid": "3b6740be-b3f7-4311-8c6f-0e63be9baac9",
     "showTitle": false,
     "tableResultSettingsMap": {},
     "title": ""
    }
   },
   "outputs": [],
   "source": [
    "pat_data = pat_data.drop('patient_phone')"
   ]
  },
  {
   "cell_type": "code",
   "execution_count": 0,
   "metadata": {
    "application/vnd.databricks.v1+cell": {
     "cellMetadata": {
      "byteLimit": 2048000,
      "rowLimit": 10000
     },
     "inputWidgets": {},
     "nuid": "8829ffae-df73-4adb-a7c9-39fadac15a75",
     "showTitle": false,
     "tableResultSettingsMap": {},
     "title": ""
    }
   },
   "outputs": [
    {
     "output_type": "display_data",
     "data": {
      "text/html": [
       "<style scoped>\n",
       "  .table-result-container {\n",
       "    max-height: 300px;\n",
       "    overflow: auto;\n",
       "  }\n",
       "  table, th, td {\n",
       "    border: 1px solid black;\n",
       "    border-collapse: collapse;\n",
       "  }\n",
       "  th, td {\n",
       "    padding: 5px;\n",
       "  }\n",
       "  th {\n",
       "    text-align: left;\n",
       "  }\n",
       "</style><div class='table-result-container'><table class='table-result'><thead style='background-color: white'><tr><th>Patient_id</th><th>Patient_name</th><th>patient_gender</th><th>patient_birth_date</th><th>disease_name</th><th>city</th><th>hospital_id</th></tr></thead><tbody><tr><td>187158</td><td>Harbir</td><td>Female</td><td>1924-06-30</td><td>Galactosemia</td><td>Rourkela</td><td>H1001</td></tr><tr><td>112766</td><td>Brahmdev</td><td>Female</td><td>1948-12-20</td><td>Bladder cancer</td><td>Tiruvottiyur</td><td>H1016</td></tr><tr><td>199252</td><td>Ujjawal</td><td>Male</td><td>1980-04-16</td><td>Kidney cancer</td><td>Berhampur</td><td>H1009</td></tr><tr><td>133424</td><td>Ballari</td><td>Female</td><td>1969-09-25</td><td>Suicide</td><td>Bihar Sharif</td><td>H1017</td></tr><tr><td>172579</td><td>Devnath</td><td>Female</td><td>1946-05-01</td><td>Food allergy</td><td>Bidhannagar</td><td>H1019</td></tr><tr><td>171320</td><td>Atasi</td><td>Male</td><td>1967-10-02</td><td>Whiplash</td><td>Amravati</td><td>H1013</td></tr><tr><td>107794</td><td>Manish</td><td>Male</td><td>1967-06-06</td><td>Sunbathing</td><td>Panvel</td><td>H1004</td></tr><tr><td>130339</td><td>Aakar</td><td>Female</td><td>1925-03-05</td><td>Drug consumption</td><td>Bihar Sharif</td><td>H1000</td></tr><tr><td>110377</td><td>Gurudas</td><td>Male</td><td>1945-05-06</td><td>Dengue</td><td>Kamarhati</td><td>H1001</td></tr><tr><td>149367</td><td>Visitor/NA</td><td>Male</td><td>1925-06-12</td><td>Head banging</td><td>Bangalore</td><td>H1013</td></tr><tr><td>156168</td><td>Visitor/NA</td><td>Male</td><td>1976-02-03</td><td>Fanconi anaemia</td><td>Rajkot</td><td>H1004</td></tr><tr><td>114241</td><td>Visitor/NA</td><td>Female</td><td>1955-01-22</td><td>Breast cancer</td><td>Ghaziabad</td><td>H1015</td></tr><tr><td>146382</td><td>Dharmadaas</td><td>Male</td><td>1964-04-29</td><td>Anthrax</td><td>Bhalswa Jahangir Pur</td><td>H1019</td></tr><tr><td>132748</td><td>Brahmvir</td><td>Male</td><td>1991-11-11</td><td>Cystic fibrosis</td><td>Ambala</td><td>H1018</td></tr><tr><td>167340</td><td>Visitor/NA</td><td>Female</td><td>1981-01-25</td><td>Galactosemia</td><td>Surendranagar Dudhrej</td><td>H1003</td></tr><tr><td>135184</td><td>Bhagvan</td><td>Female</td><td>1966-07-24</td><td>Dengue</td><td>Bhimavaram</td><td>H1018</td></tr><tr><td>179662</td><td>Amritkala</td><td>Female</td><td>1933-11-20</td><td>Smallpox</td><td>Meerut</td><td>H1018</td></tr><tr><td>184479</td><td>Bandhu</td><td>Male</td><td>1996-10-15</td><td>Pollen allergy</td><td>Chinsurah</td><td>H1010</td></tr><tr><td>156988</td><td>Bhagavaana</td><td>Female</td><td>1935-09-16</td><td>Breast cancer</td><td>Shahjahanpur</td><td>H1012</td></tr><tr><td>132870</td><td>Visitor/NA</td><td>Female</td><td>1924-11-09</td><td>Glaucoma</td><td>Jabalpur</td><td>H1017</td></tr><tr><td>148137</td><td>Umang</td><td>Female</td><td>1963-07-14</td><td>Pet allergy</td><td>Haridwar</td><td>H1002</td></tr><tr><td>113280</td><td>Darsana</td><td>Male</td><td>1932-05-29</td><td>Rett Syndrome</td><td>Dibrugarh</td><td>H1019</td></tr><tr><td>134184</td><td>Prakash</td><td>Female</td><td>1923-09-15</td><td>Flu</td><td>Kottayam</td><td>H1001</td></tr><tr><td>122592</td><td>Vaijayanti</td><td>Male</td><td>1920-11-13</td><td>Cholera</td><td>Mira-Bhayandar</td><td>H1009</td></tr><tr><td>154439</td><td>Menakshi</td><td>Male</td><td>1987-03-06</td><td>Scurvy</td><td>Kamarhati</td><td>H1016</td></tr><tr><td>117945</td><td>Visitor/NA</td><td>Male</td><td>1955-12-24</td><td>Glaucoma</td><td>Karimnagar</td><td>H1009</td></tr><tr><td>189996</td><td>Ekant</td><td>Male</td><td>1943-08-13</td><td>Measles</td><td>Berhampore</td><td>H1003</td></tr><tr><td>146540</td><td>Chancharik</td><td>Male</td><td>1983-09-05</td><td>Scurvy</td><td>Chapra</td><td>H1012</td></tr><tr><td>156434</td><td>Pushti</td><td>Female</td><td>1935-10-15</td><td>Flu</td><td>Morbi</td><td>H1019</td></tr><tr><td>197352</td><td>Swati</td><td>Female</td><td>1987-12-11</td><td>Pet allergy</td><td>Amravati</td><td>H1019</td></tr><tr><td>138778</td><td>Upasana</td><td>Male</td><td>1956-06-01</td><td>Lymphedema</td><td>Hyderabad</td><td>H1005</td></tr><tr><td>162665</td><td>Kanhaiya</td><td>Female</td><td>1954-10-19</td><td>Alcohol consumption</td><td>Mysore</td><td>H1009</td></tr><tr><td>197503</td><td>Visitor/NA</td><td>Female</td><td>1968-07-02</td><td>Stroke</td><td>Gwalior</td><td>H1009</td></tr><tr><td>113476</td><td>Gensho</td><td>Male</td><td>1992-06-06</td><td>Galactosemia</td><td>Ludhiana</td><td>H1016</td></tr><tr><td>195876</td><td>Gopal</td><td>Male</td><td>1986-05-14</td><td>Vertigo</td><td>Raebareli</td><td>H1017</td></tr><tr><td>150189</td><td>Dheeman</td><td>Male</td><td>1945-05-04</td><td>Measles</td><td>Mysore</td><td>H1017</td></tr><tr><td>138861</td><td>Upasana</td><td>Female</td><td>1927-10-03</td><td>Heart Attack</td><td>Ratlam</td><td>H1004</td></tr><tr><td>146555</td><td>Visitor/NA</td><td>Male</td><td>1948-11-10</td><td>Phenylketonuria</td><td>Vadodara</td><td>H1007</td></tr><tr><td>199114</td><td>Visitor/NA</td><td>Female</td><td>1955-04-07</td><td>Phenylketonuria</td><td>Vijayawada</td><td>H1017</td></tr><tr><td>105758</td><td>Madhubala</td><td>Male</td><td>1937-01-11</td><td>Head banging</td><td>Jaunpur</td><td>H1003</td></tr><tr><td>109251</td><td>Anjushree</td><td>Male</td><td>1976-07-04</td><td>Choking</td><td>Ghaziabad</td><td>H1001</td></tr><tr><td>156223</td><td>Visitor/NA</td><td>Female</td><td>1930-11-25</td><td>Fanconi anaemia</td><td>Agartala</td><td>H1012</td></tr><tr><td>108576</td><td>Chakrika</td><td>Male</td><td>1964-08-05</td><td>Stroke</td><td>Ranchi</td><td>H1003</td></tr><tr><td>132947</td><td>Saroj</td><td>Female</td><td>1942-08-26</td><td>Anaemia</td><td>Muzaffarpur</td><td>H1016</td></tr><tr><td>148674</td><td>Ayushmati</td><td>Male</td><td>1932-09-20</td><td>Diabetes</td><td>Satna</td><td>H1016</td></tr><tr><td>133107</td><td>Drashti</td><td>Male</td><td>1926-07-03</td><td>Lymphedema</td><td>Saharsa</td><td>H1019</td></tr><tr><td>193137</td><td>Aayushmaan</td><td>Female</td><td>1983-11-14</td><td>Phenylketonuria</td><td>Mehsana</td><td>H1014</td></tr><tr><td>196369</td><td>Visitor/NA</td><td>Male</td><td>1931-02-04</td><td>Choking</td><td>Shivpuri</td><td>H1017</td></tr><tr><td>109342</td><td>Chitranjan</td><td>Female</td><td>1925-09-09</td><td>Asthma</td><td>Morbi</td><td>H1011</td></tr><tr><td>121783</td><td>Paridhi</td><td>Female</td><td>1959-03-27</td><td>Bladder cancer</td><td>Jabalpur</td><td>H1013</td></tr><tr><td>197441</td><td>Deependu</td><td>Female</td><td>1952-02-13</td><td>Lung cancer</td><td>Bareilly</td><td>H1001</td></tr><tr><td>194166</td><td>Visitor/NA</td><td>Male</td><td>1946-10-17</td><td>Colorectal cancer</td><td>Baranagar</td><td>H1015</td></tr><tr><td>110690</td><td>Laksman</td><td>Female</td><td>1939-05-26</td><td>Food Poisoning</td><td>Ahmednagar</td><td>H1001</td></tr><tr><td>180709</td><td>Visitor/NA</td><td>Male</td><td>1988-06-27</td><td>Anthrax</td><td>Pali</td><td>H1017</td></tr><tr><td>119268</td><td>Shivakari</td><td>Female</td><td>1944-11-02</td><td>Mold allergy</td><td>Hapur</td><td>H1008</td></tr><tr><td>163148</td><td>Madhu</td><td>Male</td><td>1984-10-23</td><td>Beriberi</td><td>Udaipur</td><td>H1008</td></tr><tr><td>118913</td><td>Chanak</td><td>Male</td><td>1954-08-27</td><td>Malaria</td><td>Jalandhar</td><td>H1004</td></tr><tr><td>167423</td><td>Chittesh</td><td>Male</td><td>1949-10-17</td><td>Asthma</td><td>Thoothukudi</td><td>H1019</td></tr><tr><td>141703</td><td>Nawal</td><td>Male</td><td>1940-01-22</td><td>Fractures</td><td>Bhopal</td><td>H1006</td></tr><tr><td>173518</td><td>Gajabahu</td><td>Male</td><td>1959-03-15</td><td>Malaria</td><td>Udupi</td><td>H1015</td></tr><tr><td>140394</td><td>Jitesh</td><td>Male</td><td>1983-02-03</td><td>Anthrax</td><td>Karimnagar</td><td>H1010</td></tr><tr><td>164524</td><td>Visitor/NA</td><td>Female</td><td>1966-09-25</td><td>Mold allergy</td><td>Kharagpur</td><td>H1015</td></tr><tr><td>198182</td><td>Lalit</td><td>Female</td><td>1924-02-15</td><td>Head banging</td><td>Tinsukia</td><td>H1017</td></tr><tr><td>115143</td><td>Anshuk</td><td>Male</td><td>1991-06-17</td><td>Drug consumption</td><td>Uluberia</td><td>H1001</td></tr><tr><td>156364</td><td>Visitor/NA</td><td>Male</td><td>1994-01-13</td><td>Cholera</td><td>Panihati</td><td>H1019</td></tr><tr><td>191132</td><td>Dipesh</td><td>Female</td><td>1949-04-01</td><td>Glaucoma</td><td>Kochi</td><td>H1016</td></tr><tr><td>105686</td><td>Visitor/NA</td><td>Male</td><td>1930-09-01</td><td>Hepatitis</td><td>Kolhapur</td><td>H1008</td></tr><tr><td>160140</td><td>Kishan</td><td>Male</td><td>1923-05-12</td><td>Rett Syndrome</td><td>Srikakulam</td><td>H1002</td></tr><tr><td>114252</td><td>Visitor/NA</td><td>Female</td><td>1927-02-26</td><td>Diabetes</td><td>Ambarnath</td><td>H1014</td></tr><tr><td>188365</td><td>Bhageeratha</td><td>Male</td><td>1973-03-21</td><td>Pet allergy</td><td>Sonipat</td><td>H1017</td></tr></tbody></table></div>"
      ]
     },
     "metadata": {
      "application/vnd.databricks.v1+output": {
       "addedWidgets": {},
       "aggData": [],
       "aggError": "",
       "aggOverflow": false,
       "aggSchema": [],
       "aggSeriesLimitReached": false,
       "aggType": "",
       "arguments": {},
       "columnCustomDisplayInfos": {},
       "data": [
        [
         "187158",
         "Harbir",
         "Female",
         "1924-06-30",
         "Galactosemia",
         "Rourkela",
         "H1001"
        ],
        [
         "112766",
         "Brahmdev",
         "Female",
         "1948-12-20",
         "Bladder cancer",
         "Tiruvottiyur",
         "H1016"
        ],
        [
         "199252",
         "Ujjawal",
         "Male",
         "1980-04-16",
         "Kidney cancer",
         "Berhampur",
         "H1009"
        ],
        [
         "133424",
         "Ballari",
         "Female",
         "1969-09-25",
         "Suicide",
         "Bihar Sharif",
         "H1017"
        ],
        [
         "172579",
         "Devnath",
         "Female",
         "1946-05-01",
         "Food allergy",
         "Bidhannagar",
         "H1019"
        ],
        [
         "171320",
         "Atasi",
         "Male",
         "1967-10-02",
         "Whiplash",
         "Amravati",
         "H1013"
        ],
        [
         "107794",
         "Manish",
         "Male",
         "1967-06-06",
         "Sunbathing",
         "Panvel",
         "H1004"
        ],
        [
         "130339",
         "Aakar",
         "Female",
         "1925-03-05",
         "Drug consumption",
         "Bihar Sharif",
         "H1000"
        ],
        [
         "110377",
         "Gurudas",
         "Male",
         "1945-05-06",
         "Dengue",
         "Kamarhati",
         "H1001"
        ],
        [
         "149367",
         "Visitor/NA",
         "Male",
         "1925-06-12",
         "Head banging",
         "Bangalore",
         "H1013"
        ],
        [
         "156168",
         "Visitor/NA",
         "Male",
         "1976-02-03",
         "Fanconi anaemia",
         "Rajkot",
         "H1004"
        ],
        [
         "114241",
         "Visitor/NA",
         "Female",
         "1955-01-22",
         "Breast cancer",
         "Ghaziabad",
         "H1015"
        ],
        [
         "146382",
         "Dharmadaas",
         "Male",
         "1964-04-29",
         "Anthrax",
         "Bhalswa Jahangir Pur",
         "H1019"
        ],
        [
         "132748",
         "Brahmvir",
         "Male",
         "1991-11-11",
         "Cystic fibrosis",
         "Ambala",
         "H1018"
        ],
        [
         "167340",
         "Visitor/NA",
         "Female",
         "1981-01-25",
         "Galactosemia",
         "Surendranagar Dudhrej",
         "H1003"
        ],
        [
         "135184",
         "Bhagvan",
         "Female",
         "1966-07-24",
         "Dengue",
         "Bhimavaram",
         "H1018"
        ],
        [
         "179662",
         "Amritkala",
         "Female",
         "1933-11-20",
         "Smallpox",
         "Meerut",
         "H1018"
        ],
        [
         "184479",
         "Bandhu",
         "Male",
         "1996-10-15",
         "Pollen allergy",
         "Chinsurah",
         "H1010"
        ],
        [
         "156988",
         "Bhagavaana",
         "Female",
         "1935-09-16",
         "Breast cancer",
         "Shahjahanpur",
         "H1012"
        ],
        [
         "132870",
         "Visitor/NA",
         "Female",
         "1924-11-09",
         "Glaucoma",
         "Jabalpur",
         "H1017"
        ],
        [
         "148137",
         "Umang",
         "Female",
         "1963-07-14",
         "Pet allergy",
         "Haridwar",
         "H1002"
        ],
        [
         "113280",
         "Darsana",
         "Male",
         "1932-05-29",
         "Rett Syndrome",
         "Dibrugarh",
         "H1019"
        ],
        [
         "134184",
         "Prakash",
         "Female",
         "1923-09-15",
         "Flu",
         "Kottayam",
         "H1001"
        ],
        [
         "122592",
         "Vaijayanti",
         "Male",
         "1920-11-13",
         "Cholera",
         "Mira-Bhayandar",
         "H1009"
        ],
        [
         "154439",
         "Menakshi",
         "Male",
         "1987-03-06",
         "Scurvy",
         "Kamarhati",
         "H1016"
        ],
        [
         "117945",
         "Visitor/NA",
         "Male",
         "1955-12-24",
         "Glaucoma",
         "Karimnagar",
         "H1009"
        ],
        [
         "189996",
         "Ekant",
         "Male",
         "1943-08-13",
         "Measles",
         "Berhampore",
         "H1003"
        ],
        [
         "146540",
         "Chancharik",
         "Male",
         "1983-09-05",
         "Scurvy",
         "Chapra",
         "H1012"
        ],
        [
         "156434",
         "Pushti",
         "Female",
         "1935-10-15",
         "Flu",
         "Morbi",
         "H1019"
        ],
        [
         "197352",
         "Swati",
         "Female",
         "1987-12-11",
         "Pet allergy",
         "Amravati",
         "H1019"
        ],
        [
         "138778",
         "Upasana",
         "Male",
         "1956-06-01",
         "Lymphedema",
         "Hyderabad",
         "H1005"
        ],
        [
         "162665",
         "Kanhaiya",
         "Female",
         "1954-10-19",
         "Alcohol consumption",
         "Mysore",
         "H1009"
        ],
        [
         "197503",
         "Visitor/NA",
         "Female",
         "1968-07-02",
         "Stroke",
         "Gwalior",
         "H1009"
        ],
        [
         "113476",
         "Gensho",
         "Male",
         "1992-06-06",
         "Galactosemia",
         "Ludhiana",
         "H1016"
        ],
        [
         "195876",
         "Gopal",
         "Male",
         "1986-05-14",
         "Vertigo",
         "Raebareli",
         "H1017"
        ],
        [
         "150189",
         "Dheeman",
         "Male",
         "1945-05-04",
         "Measles",
         "Mysore",
         "H1017"
        ],
        [
         "138861",
         "Upasana",
         "Female",
         "1927-10-03",
         "Heart Attack",
         "Ratlam",
         "H1004"
        ],
        [
         "146555",
         "Visitor/NA",
         "Male",
         "1948-11-10",
         "Phenylketonuria",
         "Vadodara",
         "H1007"
        ],
        [
         "199114",
         "Visitor/NA",
         "Female",
         "1955-04-07",
         "Phenylketonuria",
         "Vijayawada",
         "H1017"
        ],
        [
         "105758",
         "Madhubala",
         "Male",
         "1937-01-11",
         "Head banging",
         "Jaunpur",
         "H1003"
        ],
        [
         "109251",
         "Anjushree",
         "Male",
         "1976-07-04",
         "Choking",
         "Ghaziabad",
         "H1001"
        ],
        [
         "156223",
         "Visitor/NA",
         "Female",
         "1930-11-25",
         "Fanconi anaemia",
         "Agartala",
         "H1012"
        ],
        [
         "108576",
         "Chakrika",
         "Male",
         "1964-08-05",
         "Stroke",
         "Ranchi",
         "H1003"
        ],
        [
         "132947",
         "Saroj",
         "Female",
         "1942-08-26",
         "Anaemia",
         "Muzaffarpur",
         "H1016"
        ],
        [
         "148674",
         "Ayushmati",
         "Male",
         "1932-09-20",
         "Diabetes",
         "Satna",
         "H1016"
        ],
        [
         "133107",
         "Drashti",
         "Male",
         "1926-07-03",
         "Lymphedema",
         "Saharsa",
         "H1019"
        ],
        [
         "193137",
         "Aayushmaan",
         "Female",
         "1983-11-14",
         "Phenylketonuria",
         "Mehsana",
         "H1014"
        ],
        [
         "196369",
         "Visitor/NA",
         "Male",
         "1931-02-04",
         "Choking",
         "Shivpuri",
         "H1017"
        ],
        [
         "109342",
         "Chitranjan",
         "Female",
         "1925-09-09",
         "Asthma",
         "Morbi",
         "H1011"
        ],
        [
         "121783",
         "Paridhi",
         "Female",
         "1959-03-27",
         "Bladder cancer",
         "Jabalpur",
         "H1013"
        ],
        [
         "197441",
         "Deependu",
         "Female",
         "1952-02-13",
         "Lung cancer",
         "Bareilly",
         "H1001"
        ],
        [
         "194166",
         "Visitor/NA",
         "Male",
         "1946-10-17",
         "Colorectal cancer",
         "Baranagar",
         "H1015"
        ],
        [
         "110690",
         "Laksman",
         "Female",
         "1939-05-26",
         "Food Poisoning",
         "Ahmednagar",
         "H1001"
        ],
        [
         "180709",
         "Visitor/NA",
         "Male",
         "1988-06-27",
         "Anthrax",
         "Pali",
         "H1017"
        ],
        [
         "119268",
         "Shivakari",
         "Female",
         "1944-11-02",
         "Mold allergy",
         "Hapur",
         "H1008"
        ],
        [
         "163148",
         "Madhu",
         "Male",
         "1984-10-23",
         "Beriberi",
         "Udaipur",
         "H1008"
        ],
        [
         "118913",
         "Chanak",
         "Male",
         "1954-08-27",
         "Malaria",
         "Jalandhar",
         "H1004"
        ],
        [
         "167423",
         "Chittesh",
         "Male",
         "1949-10-17",
         "Asthma",
         "Thoothukudi",
         "H1019"
        ],
        [
         "141703",
         "Nawal",
         "Male",
         "1940-01-22",
         "Fractures",
         "Bhopal",
         "H1006"
        ],
        [
         "173518",
         "Gajabahu",
         "Male",
         "1959-03-15",
         "Malaria",
         "Udupi",
         "H1015"
        ],
        [
         "140394",
         "Jitesh",
         "Male",
         "1983-02-03",
         "Anthrax",
         "Karimnagar",
         "H1010"
        ],
        [
         "164524",
         "Visitor/NA",
         "Female",
         "1966-09-25",
         "Mold allergy",
         "Kharagpur",
         "H1015"
        ],
        [
         "198182",
         "Lalit",
         "Female",
         "1924-02-15",
         "Head banging",
         "Tinsukia",
         "H1017"
        ],
        [
         "115143",
         "Anshuk",
         "Male",
         "1991-06-17",
         "Drug consumption",
         "Uluberia",
         "H1001"
        ],
        [
         "156364",
         "Visitor/NA",
         "Male",
         "1994-01-13",
         "Cholera",
         "Panihati",
         "H1019"
        ],
        [
         "191132",
         "Dipesh",
         "Female",
         "1949-04-01",
         "Glaucoma",
         "Kochi",
         "H1016"
        ],
        [
         "105686",
         "Visitor/NA",
         "Male",
         "1930-09-01",
         "Hepatitis",
         "Kolhapur",
         "H1008"
        ],
        [
         "160140",
         "Kishan",
         "Male",
         "1923-05-12",
         "Rett Syndrome",
         "Srikakulam",
         "H1002"
        ],
        [
         "114252",
         "Visitor/NA",
         "Female",
         "1927-02-26",
         "Diabetes",
         "Ambarnath",
         "H1014"
        ],
        [
         "188365",
         "Bhageeratha",
         "Male",
         "1973-03-21",
         "Pet allergy",
         "Sonipat",
         "H1017"
        ]
       ],
       "datasetInfos": [],
       "dbfsResultPath": null,
       "isJsonSchema": true,
       "metadata": {},
       "overflow": false,
       "plotOptions": {
        "customPlotOptions": {},
        "displayType": "table",
        "pivotAggregation": null,
        "pivotColumns": null,
        "xColumns": null,
        "yColumns": null
       },
       "removedWidgets": [],
       "schema": [
        {
         "metadata": "{}",
         "name": "Patient_id",
         "type": "\"string\""
        },
        {
         "metadata": "{}",
         "name": "Patient_name",
         "type": "\"string\""
        },
        {
         "metadata": "{}",
         "name": "patient_gender",
         "type": "\"string\""
        },
        {
         "metadata": "{}",
         "name": "patient_birth_date",
         "type": "\"string\""
        },
        {
         "metadata": "{}",
         "name": "disease_name",
         "type": "\"string\""
        },
        {
         "metadata": "{}",
         "name": "city",
         "type": "\"string\""
        },
        {
         "metadata": "{}",
         "name": "hospital_id",
         "type": "\"string\""
        }
       ],
       "type": "table"
      }
     },
     "output_type": "display_data"
    }
   ],
   "source": [
    "display(pat_data)"
   ]
  },
  {
   "cell_type": "code",
   "execution_count": 0,
   "metadata": {
    "application/vnd.databricks.v1+cell": {
     "cellMetadata": {
      "byteLimit": 2048000,
      "rowLimit": 10000
     },
     "inputWidgets": {},
     "nuid": "a7b965fb-f45d-481a-82e3-42d5f55c1571",
     "showTitle": false,
     "tableResultSettingsMap": {},
     "title": ""
    }
   },
   "outputs": [],
   "source": [
    "pat_data = pat_data.withColumn(\"patient_age\",(months_between(current_date(),col(\"patient_birth_date\"))/12).cast(\"int\"))"
   ]
  },
  {
   "cell_type": "code",
   "execution_count": 0,
   "metadata": {
    "application/vnd.databricks.v1+cell": {
     "cellMetadata": {
      "byteLimit": 2048000,
      "rowLimit": 10000
     },
     "inputWidgets": {},
     "nuid": "949b9c76-94ca-4f64-b135-47a8b410839c",
     "showTitle": false,
     "tableResultSettingsMap": {},
     "title": ""
    }
   },
   "outputs": [
    {
     "output_type": "display_data",
     "data": {
      "text/html": [
       "<style scoped>\n",
       "  .table-result-container {\n",
       "    max-height: 300px;\n",
       "    overflow: auto;\n",
       "  }\n",
       "  table, th, td {\n",
       "    border: 1px solid black;\n",
       "    border-collapse: collapse;\n",
       "  }\n",
       "  th, td {\n",
       "    padding: 5px;\n",
       "  }\n",
       "  th {\n",
       "    text-align: left;\n",
       "  }\n",
       "</style><div class='table-result-container'><table class='table-result'><thead style='background-color: white'><tr><th>Patient_id</th><th>Patient_name</th><th>patient_gender</th><th>patient_birth_date</th><th>disease_name</th><th>city</th><th>hospital_id</th><th>patient_age</th></tr></thead><tbody><tr><td>187158</td><td>Harbir</td><td>Female</td><td>1924-06-30</td><td>Galactosemia</td><td>Rourkela</td><td>H1001</td><td>100</td></tr><tr><td>112766</td><td>Brahmdev</td><td>Female</td><td>1948-12-20</td><td>Bladder cancer</td><td>Tiruvottiyur</td><td>H1016</td><td>75</td></tr><tr><td>199252</td><td>Ujjawal</td><td>Male</td><td>1980-04-16</td><td>Kidney cancer</td><td>Berhampur</td><td>H1009</td><td>44</td></tr><tr><td>133424</td><td>Ballari</td><td>Female</td><td>1969-09-25</td><td>Suicide</td><td>Bihar Sharif</td><td>H1017</td><td>55</td></tr><tr><td>172579</td><td>Devnath</td><td>Female</td><td>1946-05-01</td><td>Food allergy</td><td>Bidhannagar</td><td>H1019</td><td>78</td></tr><tr><td>171320</td><td>Atasi</td><td>Male</td><td>1967-10-02</td><td>Whiplash</td><td>Amravati</td><td>H1013</td><td>57</td></tr><tr><td>107794</td><td>Manish</td><td>Male</td><td>1967-06-06</td><td>Sunbathing</td><td>Panvel</td><td>H1004</td><td>57</td></tr><tr><td>130339</td><td>Aakar</td><td>Female</td><td>1925-03-05</td><td>Drug consumption</td><td>Bihar Sharif</td><td>H1000</td><td>99</td></tr><tr><td>110377</td><td>Gurudas</td><td>Male</td><td>1945-05-06</td><td>Dengue</td><td>Kamarhati</td><td>H1001</td><td>79</td></tr><tr><td>149367</td><td>Visitor/NA</td><td>Male</td><td>1925-06-12</td><td>Head banging</td><td>Bangalore</td><td>H1013</td><td>99</td></tr><tr><td>156168</td><td>Visitor/NA</td><td>Male</td><td>1976-02-03</td><td>Fanconi anaemia</td><td>Rajkot</td><td>H1004</td><td>48</td></tr><tr><td>114241</td><td>Visitor/NA</td><td>Female</td><td>1955-01-22</td><td>Breast cancer</td><td>Ghaziabad</td><td>H1015</td><td>69</td></tr><tr><td>146382</td><td>Dharmadaas</td><td>Male</td><td>1964-04-29</td><td>Anthrax</td><td>Bhalswa Jahangir Pur</td><td>H1019</td><td>60</td></tr><tr><td>132748</td><td>Brahmvir</td><td>Male</td><td>1991-11-11</td><td>Cystic fibrosis</td><td>Ambala</td><td>H1018</td><td>33</td></tr><tr><td>167340</td><td>Visitor/NA</td><td>Female</td><td>1981-01-25</td><td>Galactosemia</td><td>Surendranagar Dudhrej</td><td>H1003</td><td>43</td></tr><tr><td>135184</td><td>Bhagvan</td><td>Female</td><td>1966-07-24</td><td>Dengue</td><td>Bhimavaram</td><td>H1018</td><td>58</td></tr><tr><td>179662</td><td>Amritkala</td><td>Female</td><td>1933-11-20</td><td>Smallpox</td><td>Meerut</td><td>H1018</td><td>90</td></tr><tr><td>184479</td><td>Bandhu</td><td>Male</td><td>1996-10-15</td><td>Pollen allergy</td><td>Chinsurah</td><td>H1010</td><td>28</td></tr><tr><td>156988</td><td>Bhagavaana</td><td>Female</td><td>1935-09-16</td><td>Breast cancer</td><td>Shahjahanpur</td><td>H1012</td><td>89</td></tr><tr><td>132870</td><td>Visitor/NA</td><td>Female</td><td>1924-11-09</td><td>Glaucoma</td><td>Jabalpur</td><td>H1017</td><td>100</td></tr><tr><td>148137</td><td>Umang</td><td>Female</td><td>1963-07-14</td><td>Pet allergy</td><td>Haridwar</td><td>H1002</td><td>61</td></tr><tr><td>113280</td><td>Darsana</td><td>Male</td><td>1932-05-29</td><td>Rett Syndrome</td><td>Dibrugarh</td><td>H1019</td><td>92</td></tr><tr><td>134184</td><td>Prakash</td><td>Female</td><td>1923-09-15</td><td>Flu</td><td>Kottayam</td><td>H1001</td><td>101</td></tr><tr><td>122592</td><td>Vaijayanti</td><td>Male</td><td>1920-11-13</td><td>Cholera</td><td>Mira-Bhayandar</td><td>H1009</td><td>104</td></tr><tr><td>154439</td><td>Menakshi</td><td>Male</td><td>1987-03-06</td><td>Scurvy</td><td>Kamarhati</td><td>H1016</td><td>37</td></tr><tr><td>117945</td><td>Visitor/NA</td><td>Male</td><td>1955-12-24</td><td>Glaucoma</td><td>Karimnagar</td><td>H1009</td><td>68</td></tr><tr><td>189996</td><td>Ekant</td><td>Male</td><td>1943-08-13</td><td>Measles</td><td>Berhampore</td><td>H1003</td><td>81</td></tr><tr><td>146540</td><td>Chancharik</td><td>Male</td><td>1983-09-05</td><td>Scurvy</td><td>Chapra</td><td>H1012</td><td>41</td></tr><tr><td>156434</td><td>Pushti</td><td>Female</td><td>1935-10-15</td><td>Flu</td><td>Morbi</td><td>H1019</td><td>89</td></tr><tr><td>197352</td><td>Swati</td><td>Female</td><td>1987-12-11</td><td>Pet allergy</td><td>Amravati</td><td>H1019</td><td>36</td></tr><tr><td>138778</td><td>Upasana</td><td>Male</td><td>1956-06-01</td><td>Lymphedema</td><td>Hyderabad</td><td>H1005</td><td>68</td></tr><tr><td>162665</td><td>Kanhaiya</td><td>Female</td><td>1954-10-19</td><td>Alcohol consumption</td><td>Mysore</td><td>H1009</td><td>70</td></tr><tr><td>197503</td><td>Visitor/NA</td><td>Female</td><td>1968-07-02</td><td>Stroke</td><td>Gwalior</td><td>H1009</td><td>56</td></tr><tr><td>113476</td><td>Gensho</td><td>Male</td><td>1992-06-06</td><td>Galactosemia</td><td>Ludhiana</td><td>H1016</td><td>32</td></tr><tr><td>195876</td><td>Gopal</td><td>Male</td><td>1986-05-14</td><td>Vertigo</td><td>Raebareli</td><td>H1017</td><td>38</td></tr><tr><td>150189</td><td>Dheeman</td><td>Male</td><td>1945-05-04</td><td>Measles</td><td>Mysore</td><td>H1017</td><td>79</td></tr><tr><td>138861</td><td>Upasana</td><td>Female</td><td>1927-10-03</td><td>Heart Attack</td><td>Ratlam</td><td>H1004</td><td>97</td></tr><tr><td>146555</td><td>Visitor/NA</td><td>Male</td><td>1948-11-10</td><td>Phenylketonuria</td><td>Vadodara</td><td>H1007</td><td>76</td></tr><tr><td>199114</td><td>Visitor/NA</td><td>Female</td><td>1955-04-07</td><td>Phenylketonuria</td><td>Vijayawada</td><td>H1017</td><td>69</td></tr><tr><td>105758</td><td>Madhubala</td><td>Male</td><td>1937-01-11</td><td>Head banging</td><td>Jaunpur</td><td>H1003</td><td>87</td></tr><tr><td>109251</td><td>Anjushree</td><td>Male</td><td>1976-07-04</td><td>Choking</td><td>Ghaziabad</td><td>H1001</td><td>48</td></tr><tr><td>156223</td><td>Visitor/NA</td><td>Female</td><td>1930-11-25</td><td>Fanconi anaemia</td><td>Agartala</td><td>H1012</td><td>93</td></tr><tr><td>108576</td><td>Chakrika</td><td>Male</td><td>1964-08-05</td><td>Stroke</td><td>Ranchi</td><td>H1003</td><td>60</td></tr><tr><td>132947</td><td>Saroj</td><td>Female</td><td>1942-08-26</td><td>Anaemia</td><td>Muzaffarpur</td><td>H1016</td><td>82</td></tr><tr><td>148674</td><td>Ayushmati</td><td>Male</td><td>1932-09-20</td><td>Diabetes</td><td>Satna</td><td>H1016</td><td>92</td></tr><tr><td>133107</td><td>Drashti</td><td>Male</td><td>1926-07-03</td><td>Lymphedema</td><td>Saharsa</td><td>H1019</td><td>98</td></tr><tr><td>193137</td><td>Aayushmaan</td><td>Female</td><td>1983-11-14</td><td>Phenylketonuria</td><td>Mehsana</td><td>H1014</td><td>41</td></tr><tr><td>196369</td><td>Visitor/NA</td><td>Male</td><td>1931-02-04</td><td>Choking</td><td>Shivpuri</td><td>H1017</td><td>93</td></tr><tr><td>109342</td><td>Chitranjan</td><td>Female</td><td>1925-09-09</td><td>Asthma</td><td>Morbi</td><td>H1011</td><td>99</td></tr><tr><td>121783</td><td>Paridhi</td><td>Female</td><td>1959-03-27</td><td>Bladder cancer</td><td>Jabalpur</td><td>H1013</td><td>65</td></tr><tr><td>197441</td><td>Deependu</td><td>Female</td><td>1952-02-13</td><td>Lung cancer</td><td>Bareilly</td><td>H1001</td><td>72</td></tr><tr><td>194166</td><td>Visitor/NA</td><td>Male</td><td>1946-10-17</td><td>Colorectal cancer</td><td>Baranagar</td><td>H1015</td><td>78</td></tr><tr><td>110690</td><td>Laksman</td><td>Female</td><td>1939-05-26</td><td>Food Poisoning</td><td>Ahmednagar</td><td>H1001</td><td>85</td></tr><tr><td>180709</td><td>Visitor/NA</td><td>Male</td><td>1988-06-27</td><td>Anthrax</td><td>Pali</td><td>H1017</td><td>36</td></tr><tr><td>119268</td><td>Shivakari</td><td>Female</td><td>1944-11-02</td><td>Mold allergy</td><td>Hapur</td><td>H1008</td><td>80</td></tr><tr><td>163148</td><td>Madhu</td><td>Male</td><td>1984-10-23</td><td>Beriberi</td><td>Udaipur</td><td>H1008</td><td>40</td></tr><tr><td>118913</td><td>Chanak</td><td>Male</td><td>1954-08-27</td><td>Malaria</td><td>Jalandhar</td><td>H1004</td><td>70</td></tr><tr><td>167423</td><td>Chittesh</td><td>Male</td><td>1949-10-17</td><td>Asthma</td><td>Thoothukudi</td><td>H1019</td><td>75</td></tr><tr><td>141703</td><td>Nawal</td><td>Male</td><td>1940-01-22</td><td>Fractures</td><td>Bhopal</td><td>H1006</td><td>84</td></tr><tr><td>173518</td><td>Gajabahu</td><td>Male</td><td>1959-03-15</td><td>Malaria</td><td>Udupi</td><td>H1015</td><td>65</td></tr><tr><td>140394</td><td>Jitesh</td><td>Male</td><td>1983-02-03</td><td>Anthrax</td><td>Karimnagar</td><td>H1010</td><td>41</td></tr><tr><td>164524</td><td>Visitor/NA</td><td>Female</td><td>1966-09-25</td><td>Mold allergy</td><td>Kharagpur</td><td>H1015</td><td>58</td></tr><tr><td>198182</td><td>Lalit</td><td>Female</td><td>1924-02-15</td><td>Head banging</td><td>Tinsukia</td><td>H1017</td><td>100</td></tr><tr><td>115143</td><td>Anshuk</td><td>Male</td><td>1991-06-17</td><td>Drug consumption</td><td>Uluberia</td><td>H1001</td><td>33</td></tr><tr><td>156364</td><td>Visitor/NA</td><td>Male</td><td>1994-01-13</td><td>Cholera</td><td>Panihati</td><td>H1019</td><td>30</td></tr><tr><td>191132</td><td>Dipesh</td><td>Female</td><td>1949-04-01</td><td>Glaucoma</td><td>Kochi</td><td>H1016</td><td>75</td></tr><tr><td>105686</td><td>Visitor/NA</td><td>Male</td><td>1930-09-01</td><td>Hepatitis</td><td>Kolhapur</td><td>H1008</td><td>94</td></tr><tr><td>160140</td><td>Kishan</td><td>Male</td><td>1923-05-12</td><td>Rett Syndrome</td><td>Srikakulam</td><td>H1002</td><td>101</td></tr><tr><td>114252</td><td>Visitor/NA</td><td>Female</td><td>1927-02-26</td><td>Diabetes</td><td>Ambarnath</td><td>H1014</td><td>97</td></tr><tr><td>188365</td><td>Bhageeratha</td><td>Male</td><td>1973-03-21</td><td>Pet allergy</td><td>Sonipat</td><td>H1017</td><td>51</td></tr></tbody></table></div>"
      ]
     },
     "metadata": {
      "application/vnd.databricks.v1+output": {
       "addedWidgets": {},
       "aggData": [],
       "aggError": "",
       "aggOverflow": false,
       "aggSchema": [],
       "aggSeriesLimitReached": false,
       "aggType": "",
       "arguments": {},
       "columnCustomDisplayInfos": {},
       "data": [
        [
         "187158",
         "Harbir",
         "Female",
         "1924-06-30",
         "Galactosemia",
         "Rourkela",
         "H1001",
         100
        ],
        [
         "112766",
         "Brahmdev",
         "Female",
         "1948-12-20",
         "Bladder cancer",
         "Tiruvottiyur",
         "H1016",
         75
        ],
        [
         "199252",
         "Ujjawal",
         "Male",
         "1980-04-16",
         "Kidney cancer",
         "Berhampur",
         "H1009",
         44
        ],
        [
         "133424",
         "Ballari",
         "Female",
         "1969-09-25",
         "Suicide",
         "Bihar Sharif",
         "H1017",
         55
        ],
        [
         "172579",
         "Devnath",
         "Female",
         "1946-05-01",
         "Food allergy",
         "Bidhannagar",
         "H1019",
         78
        ],
        [
         "171320",
         "Atasi",
         "Male",
         "1967-10-02",
         "Whiplash",
         "Amravati",
         "H1013",
         57
        ],
        [
         "107794",
         "Manish",
         "Male",
         "1967-06-06",
         "Sunbathing",
         "Panvel",
         "H1004",
         57
        ],
        [
         "130339",
         "Aakar",
         "Female",
         "1925-03-05",
         "Drug consumption",
         "Bihar Sharif",
         "H1000",
         99
        ],
        [
         "110377",
         "Gurudas",
         "Male",
         "1945-05-06",
         "Dengue",
         "Kamarhati",
         "H1001",
         79
        ],
        [
         "149367",
         "Visitor/NA",
         "Male",
         "1925-06-12",
         "Head banging",
         "Bangalore",
         "H1013",
         99
        ],
        [
         "156168",
         "Visitor/NA",
         "Male",
         "1976-02-03",
         "Fanconi anaemia",
         "Rajkot",
         "H1004",
         48
        ],
        [
         "114241",
         "Visitor/NA",
         "Female",
         "1955-01-22",
         "Breast cancer",
         "Ghaziabad",
         "H1015",
         69
        ],
        [
         "146382",
         "Dharmadaas",
         "Male",
         "1964-04-29",
         "Anthrax",
         "Bhalswa Jahangir Pur",
         "H1019",
         60
        ],
        [
         "132748",
         "Brahmvir",
         "Male",
         "1991-11-11",
         "Cystic fibrosis",
         "Ambala",
         "H1018",
         33
        ],
        [
         "167340",
         "Visitor/NA",
         "Female",
         "1981-01-25",
         "Galactosemia",
         "Surendranagar Dudhrej",
         "H1003",
         43
        ],
        [
         "135184",
         "Bhagvan",
         "Female",
         "1966-07-24",
         "Dengue",
         "Bhimavaram",
         "H1018",
         58
        ],
        [
         "179662",
         "Amritkala",
         "Female",
         "1933-11-20",
         "Smallpox",
         "Meerut",
         "H1018",
         90
        ],
        [
         "184479",
         "Bandhu",
         "Male",
         "1996-10-15",
         "Pollen allergy",
         "Chinsurah",
         "H1010",
         28
        ],
        [
         "156988",
         "Bhagavaana",
         "Female",
         "1935-09-16",
         "Breast cancer",
         "Shahjahanpur",
         "H1012",
         89
        ],
        [
         "132870",
         "Visitor/NA",
         "Female",
         "1924-11-09",
         "Glaucoma",
         "Jabalpur",
         "H1017",
         100
        ],
        [
         "148137",
         "Umang",
         "Female",
         "1963-07-14",
         "Pet allergy",
         "Haridwar",
         "H1002",
         61
        ],
        [
         "113280",
         "Darsana",
         "Male",
         "1932-05-29",
         "Rett Syndrome",
         "Dibrugarh",
         "H1019",
         92
        ],
        [
         "134184",
         "Prakash",
         "Female",
         "1923-09-15",
         "Flu",
         "Kottayam",
         "H1001",
         101
        ],
        [
         "122592",
         "Vaijayanti",
         "Male",
         "1920-11-13",
         "Cholera",
         "Mira-Bhayandar",
         "H1009",
         104
        ],
        [
         "154439",
         "Menakshi",
         "Male",
         "1987-03-06",
         "Scurvy",
         "Kamarhati",
         "H1016",
         37
        ],
        [
         "117945",
         "Visitor/NA",
         "Male",
         "1955-12-24",
         "Glaucoma",
         "Karimnagar",
         "H1009",
         68
        ],
        [
         "189996",
         "Ekant",
         "Male",
         "1943-08-13",
         "Measles",
         "Berhampore",
         "H1003",
         81
        ],
        [
         "146540",
         "Chancharik",
         "Male",
         "1983-09-05",
         "Scurvy",
         "Chapra",
         "H1012",
         41
        ],
        [
         "156434",
         "Pushti",
         "Female",
         "1935-10-15",
         "Flu",
         "Morbi",
         "H1019",
         89
        ],
        [
         "197352",
         "Swati",
         "Female",
         "1987-12-11",
         "Pet allergy",
         "Amravati",
         "H1019",
         36
        ],
        [
         "138778",
         "Upasana",
         "Male",
         "1956-06-01",
         "Lymphedema",
         "Hyderabad",
         "H1005",
         68
        ],
        [
         "162665",
         "Kanhaiya",
         "Female",
         "1954-10-19",
         "Alcohol consumption",
         "Mysore",
         "H1009",
         70
        ],
        [
         "197503",
         "Visitor/NA",
         "Female",
         "1968-07-02",
         "Stroke",
         "Gwalior",
         "H1009",
         56
        ],
        [
         "113476",
         "Gensho",
         "Male",
         "1992-06-06",
         "Galactosemia",
         "Ludhiana",
         "H1016",
         32
        ],
        [
         "195876",
         "Gopal",
         "Male",
         "1986-05-14",
         "Vertigo",
         "Raebareli",
         "H1017",
         38
        ],
        [
         "150189",
         "Dheeman",
         "Male",
         "1945-05-04",
         "Measles",
         "Mysore",
         "H1017",
         79
        ],
        [
         "138861",
         "Upasana",
         "Female",
         "1927-10-03",
         "Heart Attack",
         "Ratlam",
         "H1004",
         97
        ],
        [
         "146555",
         "Visitor/NA",
         "Male",
         "1948-11-10",
         "Phenylketonuria",
         "Vadodara",
         "H1007",
         76
        ],
        [
         "199114",
         "Visitor/NA",
         "Female",
         "1955-04-07",
         "Phenylketonuria",
         "Vijayawada",
         "H1017",
         69
        ],
        [
         "105758",
         "Madhubala",
         "Male",
         "1937-01-11",
         "Head banging",
         "Jaunpur",
         "H1003",
         87
        ],
        [
         "109251",
         "Anjushree",
         "Male",
         "1976-07-04",
         "Choking",
         "Ghaziabad",
         "H1001",
         48
        ],
        [
         "156223",
         "Visitor/NA",
         "Female",
         "1930-11-25",
         "Fanconi anaemia",
         "Agartala",
         "H1012",
         93
        ],
        [
         "108576",
         "Chakrika",
         "Male",
         "1964-08-05",
         "Stroke",
         "Ranchi",
         "H1003",
         60
        ],
        [
         "132947",
         "Saroj",
         "Female",
         "1942-08-26",
         "Anaemia",
         "Muzaffarpur",
         "H1016",
         82
        ],
        [
         "148674",
         "Ayushmati",
         "Male",
         "1932-09-20",
         "Diabetes",
         "Satna",
         "H1016",
         92
        ],
        [
         "133107",
         "Drashti",
         "Male",
         "1926-07-03",
         "Lymphedema",
         "Saharsa",
         "H1019",
         98
        ],
        [
         "193137",
         "Aayushmaan",
         "Female",
         "1983-11-14",
         "Phenylketonuria",
         "Mehsana",
         "H1014",
         41
        ],
        [
         "196369",
         "Visitor/NA",
         "Male",
         "1931-02-04",
         "Choking",
         "Shivpuri",
         "H1017",
         93
        ],
        [
         "109342",
         "Chitranjan",
         "Female",
         "1925-09-09",
         "Asthma",
         "Morbi",
         "H1011",
         99
        ],
        [
         "121783",
         "Paridhi",
         "Female",
         "1959-03-27",
         "Bladder cancer",
         "Jabalpur",
         "H1013",
         65
        ],
        [
         "197441",
         "Deependu",
         "Female",
         "1952-02-13",
         "Lung cancer",
         "Bareilly",
         "H1001",
         72
        ],
        [
         "194166",
         "Visitor/NA",
         "Male",
         "1946-10-17",
         "Colorectal cancer",
         "Baranagar",
         "H1015",
         78
        ],
        [
         "110690",
         "Laksman",
         "Female",
         "1939-05-26",
         "Food Poisoning",
         "Ahmednagar",
         "H1001",
         85
        ],
        [
         "180709",
         "Visitor/NA",
         "Male",
         "1988-06-27",
         "Anthrax",
         "Pali",
         "H1017",
         36
        ],
        [
         "119268",
         "Shivakari",
         "Female",
         "1944-11-02",
         "Mold allergy",
         "Hapur",
         "H1008",
         80
        ],
        [
         "163148",
         "Madhu",
         "Male",
         "1984-10-23",
         "Beriberi",
         "Udaipur",
         "H1008",
         40
        ],
        [
         "118913",
         "Chanak",
         "Male",
         "1954-08-27",
         "Malaria",
         "Jalandhar",
         "H1004",
         70
        ],
        [
         "167423",
         "Chittesh",
         "Male",
         "1949-10-17",
         "Asthma",
         "Thoothukudi",
         "H1019",
         75
        ],
        [
         "141703",
         "Nawal",
         "Male",
         "1940-01-22",
         "Fractures",
         "Bhopal",
         "H1006",
         84
        ],
        [
         "173518",
         "Gajabahu",
         "Male",
         "1959-03-15",
         "Malaria",
         "Udupi",
         "H1015",
         65
        ],
        [
         "140394",
         "Jitesh",
         "Male",
         "1983-02-03",
         "Anthrax",
         "Karimnagar",
         "H1010",
         41
        ],
        [
         "164524",
         "Visitor/NA",
         "Female",
         "1966-09-25",
         "Mold allergy",
         "Kharagpur",
         "H1015",
         58
        ],
        [
         "198182",
         "Lalit",
         "Female",
         "1924-02-15",
         "Head banging",
         "Tinsukia",
         "H1017",
         100
        ],
        [
         "115143",
         "Anshuk",
         "Male",
         "1991-06-17",
         "Drug consumption",
         "Uluberia",
         "H1001",
         33
        ],
        [
         "156364",
         "Visitor/NA",
         "Male",
         "1994-01-13",
         "Cholera",
         "Panihati",
         "H1019",
         30
        ],
        [
         "191132",
         "Dipesh",
         "Female",
         "1949-04-01",
         "Glaucoma",
         "Kochi",
         "H1016",
         75
        ],
        [
         "105686",
         "Visitor/NA",
         "Male",
         "1930-09-01",
         "Hepatitis",
         "Kolhapur",
         "H1008",
         94
        ],
        [
         "160140",
         "Kishan",
         "Male",
         "1923-05-12",
         "Rett Syndrome",
         "Srikakulam",
         "H1002",
         101
        ],
        [
         "114252",
         "Visitor/NA",
         "Female",
         "1927-02-26",
         "Diabetes",
         "Ambarnath",
         "H1014",
         97
        ],
        [
         "188365",
         "Bhageeratha",
         "Male",
         "1973-03-21",
         "Pet allergy",
         "Sonipat",
         "H1017",
         51
        ]
       ],
       "datasetInfos": [],
       "dbfsResultPath": null,
       "isJsonSchema": true,
       "metadata": {},
       "overflow": false,
       "plotOptions": {
        "customPlotOptions": {},
        "displayType": "table",
        "pivotAggregation": null,
        "pivotColumns": null,
        "xColumns": null,
        "yColumns": null
       },
       "removedWidgets": [],
       "schema": [
        {
         "metadata": "{}",
         "name": "Patient_id",
         "type": "\"string\""
        },
        {
         "metadata": "{}",
         "name": "Patient_name",
         "type": "\"string\""
        },
        {
         "metadata": "{}",
         "name": "patient_gender",
         "type": "\"string\""
        },
        {
         "metadata": "{}",
         "name": "patient_birth_date",
         "type": "\"string\""
        },
        {
         "metadata": "{}",
         "name": "disease_name",
         "type": "\"string\""
        },
        {
         "metadata": "{}",
         "name": "city",
         "type": "\"string\""
        },
        {
         "metadata": "{}",
         "name": "hospital_id",
         "type": "\"string\""
        },
        {
         "metadata": "{}",
         "name": "patient_age",
         "type": "\"integer\""
        }
       ],
       "type": "table"
      }
     },
     "output_type": "display_data"
    }
   ],
   "source": [
    "display(pat_data)"
   ]
  },
  {
   "cell_type": "code",
   "execution_count": 0,
   "metadata": {
    "application/vnd.databricks.v1+cell": {
     "cellMetadata": {
      "byteLimit": 2048000,
      "rowLimit": 10000
     },
     "inputWidgets": {},
     "nuid": "d59987ee-9711-4476-aaa6-d91becfb18a3",
     "showTitle": false,
     "tableResultSettingsMap": {},
     "title": ""
    }
   },
   "outputs": [],
   "source": [
    "pat_data = pat_data.drop('patient_birth_date')"
   ]
  },
  {
   "cell_type": "code",
   "execution_count": 0,
   "metadata": {
    "application/vnd.databricks.v1+cell": {
     "cellMetadata": {
      "byteLimit": 2048000,
      "rowLimit": 10000
     },
     "inputWidgets": {},
     "nuid": "1966c07e-a0b5-464b-b2c5-0fc3c4ae8fa0",
     "showTitle": false,
     "tableResultSettingsMap": {},
     "title": ""
    }
   },
   "outputs": [
    {
     "output_type": "display_data",
     "data": {
      "text/html": [
       "<style scoped>\n",
       "  .table-result-container {\n",
       "    max-height: 300px;\n",
       "    overflow: auto;\n",
       "  }\n",
       "  table, th, td {\n",
       "    border: 1px solid black;\n",
       "    border-collapse: collapse;\n",
       "  }\n",
       "  th, td {\n",
       "    padding: 5px;\n",
       "  }\n",
       "  th {\n",
       "    text-align: left;\n",
       "  }\n",
       "</style><div class='table-result-container'><table class='table-result'><thead style='background-color: white'><tr><th>Patient_id</th><th>Patient_name</th><th>patient_gender</th><th>disease_name</th><th>city</th><th>hospital_id</th><th>patient_age</th></tr></thead><tbody><tr><td>187158</td><td>Harbir</td><td>Female</td><td>Galactosemia</td><td>Rourkela</td><td>H1001</td><td>100</td></tr><tr><td>112766</td><td>Brahmdev</td><td>Female</td><td>Bladder cancer</td><td>Tiruvottiyur</td><td>H1016</td><td>75</td></tr><tr><td>199252</td><td>Ujjawal</td><td>Male</td><td>Kidney cancer</td><td>Berhampur</td><td>H1009</td><td>44</td></tr><tr><td>133424</td><td>Ballari</td><td>Female</td><td>Suicide</td><td>Bihar Sharif</td><td>H1017</td><td>55</td></tr><tr><td>172579</td><td>Devnath</td><td>Female</td><td>Food allergy</td><td>Bidhannagar</td><td>H1019</td><td>78</td></tr><tr><td>171320</td><td>Atasi</td><td>Male</td><td>Whiplash</td><td>Amravati</td><td>H1013</td><td>57</td></tr><tr><td>107794</td><td>Manish</td><td>Male</td><td>Sunbathing</td><td>Panvel</td><td>H1004</td><td>57</td></tr><tr><td>130339</td><td>Aakar</td><td>Female</td><td>Drug consumption</td><td>Bihar Sharif</td><td>H1000</td><td>99</td></tr><tr><td>110377</td><td>Gurudas</td><td>Male</td><td>Dengue</td><td>Kamarhati</td><td>H1001</td><td>79</td></tr><tr><td>149367</td><td>Visitor/NA</td><td>Male</td><td>Head banging</td><td>Bangalore</td><td>H1013</td><td>99</td></tr><tr><td>156168</td><td>Visitor/NA</td><td>Male</td><td>Fanconi anaemia</td><td>Rajkot</td><td>H1004</td><td>48</td></tr><tr><td>114241</td><td>Visitor/NA</td><td>Female</td><td>Breast cancer</td><td>Ghaziabad</td><td>H1015</td><td>69</td></tr><tr><td>146382</td><td>Dharmadaas</td><td>Male</td><td>Anthrax</td><td>Bhalswa Jahangir Pur</td><td>H1019</td><td>60</td></tr><tr><td>132748</td><td>Brahmvir</td><td>Male</td><td>Cystic fibrosis</td><td>Ambala</td><td>H1018</td><td>33</td></tr><tr><td>167340</td><td>Visitor/NA</td><td>Female</td><td>Galactosemia</td><td>Surendranagar Dudhrej</td><td>H1003</td><td>43</td></tr><tr><td>135184</td><td>Bhagvan</td><td>Female</td><td>Dengue</td><td>Bhimavaram</td><td>H1018</td><td>58</td></tr><tr><td>179662</td><td>Amritkala</td><td>Female</td><td>Smallpox</td><td>Meerut</td><td>H1018</td><td>90</td></tr><tr><td>184479</td><td>Bandhu</td><td>Male</td><td>Pollen allergy</td><td>Chinsurah</td><td>H1010</td><td>28</td></tr><tr><td>156988</td><td>Bhagavaana</td><td>Female</td><td>Breast cancer</td><td>Shahjahanpur</td><td>H1012</td><td>89</td></tr><tr><td>132870</td><td>Visitor/NA</td><td>Female</td><td>Glaucoma</td><td>Jabalpur</td><td>H1017</td><td>100</td></tr><tr><td>148137</td><td>Umang</td><td>Female</td><td>Pet allergy</td><td>Haridwar</td><td>H1002</td><td>61</td></tr><tr><td>113280</td><td>Darsana</td><td>Male</td><td>Rett Syndrome</td><td>Dibrugarh</td><td>H1019</td><td>92</td></tr><tr><td>134184</td><td>Prakash</td><td>Female</td><td>Flu</td><td>Kottayam</td><td>H1001</td><td>101</td></tr><tr><td>122592</td><td>Vaijayanti</td><td>Male</td><td>Cholera</td><td>Mira-Bhayandar</td><td>H1009</td><td>104</td></tr><tr><td>154439</td><td>Menakshi</td><td>Male</td><td>Scurvy</td><td>Kamarhati</td><td>H1016</td><td>37</td></tr><tr><td>117945</td><td>Visitor/NA</td><td>Male</td><td>Glaucoma</td><td>Karimnagar</td><td>H1009</td><td>68</td></tr><tr><td>189996</td><td>Ekant</td><td>Male</td><td>Measles</td><td>Berhampore</td><td>H1003</td><td>81</td></tr><tr><td>146540</td><td>Chancharik</td><td>Male</td><td>Scurvy</td><td>Chapra</td><td>H1012</td><td>41</td></tr><tr><td>156434</td><td>Pushti</td><td>Female</td><td>Flu</td><td>Morbi</td><td>H1019</td><td>89</td></tr><tr><td>197352</td><td>Swati</td><td>Female</td><td>Pet allergy</td><td>Amravati</td><td>H1019</td><td>36</td></tr><tr><td>138778</td><td>Upasana</td><td>Male</td><td>Lymphedema</td><td>Hyderabad</td><td>H1005</td><td>68</td></tr><tr><td>162665</td><td>Kanhaiya</td><td>Female</td><td>Alcohol consumption</td><td>Mysore</td><td>H1009</td><td>70</td></tr><tr><td>197503</td><td>Visitor/NA</td><td>Female</td><td>Stroke</td><td>Gwalior</td><td>H1009</td><td>56</td></tr><tr><td>113476</td><td>Gensho</td><td>Male</td><td>Galactosemia</td><td>Ludhiana</td><td>H1016</td><td>32</td></tr><tr><td>195876</td><td>Gopal</td><td>Male</td><td>Vertigo</td><td>Raebareli</td><td>H1017</td><td>38</td></tr><tr><td>150189</td><td>Dheeman</td><td>Male</td><td>Measles</td><td>Mysore</td><td>H1017</td><td>79</td></tr><tr><td>138861</td><td>Upasana</td><td>Female</td><td>Heart Attack</td><td>Ratlam</td><td>H1004</td><td>97</td></tr><tr><td>146555</td><td>Visitor/NA</td><td>Male</td><td>Phenylketonuria</td><td>Vadodara</td><td>H1007</td><td>76</td></tr><tr><td>199114</td><td>Visitor/NA</td><td>Female</td><td>Phenylketonuria</td><td>Vijayawada</td><td>H1017</td><td>69</td></tr><tr><td>105758</td><td>Madhubala</td><td>Male</td><td>Head banging</td><td>Jaunpur</td><td>H1003</td><td>87</td></tr><tr><td>109251</td><td>Anjushree</td><td>Male</td><td>Choking</td><td>Ghaziabad</td><td>H1001</td><td>48</td></tr><tr><td>156223</td><td>Visitor/NA</td><td>Female</td><td>Fanconi anaemia</td><td>Agartala</td><td>H1012</td><td>93</td></tr><tr><td>108576</td><td>Chakrika</td><td>Male</td><td>Stroke</td><td>Ranchi</td><td>H1003</td><td>60</td></tr><tr><td>132947</td><td>Saroj</td><td>Female</td><td>Anaemia</td><td>Muzaffarpur</td><td>H1016</td><td>82</td></tr><tr><td>148674</td><td>Ayushmati</td><td>Male</td><td>Diabetes</td><td>Satna</td><td>H1016</td><td>92</td></tr><tr><td>133107</td><td>Drashti</td><td>Male</td><td>Lymphedema</td><td>Saharsa</td><td>H1019</td><td>98</td></tr><tr><td>193137</td><td>Aayushmaan</td><td>Female</td><td>Phenylketonuria</td><td>Mehsana</td><td>H1014</td><td>41</td></tr><tr><td>196369</td><td>Visitor/NA</td><td>Male</td><td>Choking</td><td>Shivpuri</td><td>H1017</td><td>93</td></tr><tr><td>109342</td><td>Chitranjan</td><td>Female</td><td>Asthma</td><td>Morbi</td><td>H1011</td><td>99</td></tr><tr><td>121783</td><td>Paridhi</td><td>Female</td><td>Bladder cancer</td><td>Jabalpur</td><td>H1013</td><td>65</td></tr><tr><td>197441</td><td>Deependu</td><td>Female</td><td>Lung cancer</td><td>Bareilly</td><td>H1001</td><td>72</td></tr><tr><td>194166</td><td>Visitor/NA</td><td>Male</td><td>Colorectal cancer</td><td>Baranagar</td><td>H1015</td><td>78</td></tr><tr><td>110690</td><td>Laksman</td><td>Female</td><td>Food Poisoning</td><td>Ahmednagar</td><td>H1001</td><td>85</td></tr><tr><td>180709</td><td>Visitor/NA</td><td>Male</td><td>Anthrax</td><td>Pali</td><td>H1017</td><td>36</td></tr><tr><td>119268</td><td>Shivakari</td><td>Female</td><td>Mold allergy</td><td>Hapur</td><td>H1008</td><td>80</td></tr><tr><td>163148</td><td>Madhu</td><td>Male</td><td>Beriberi</td><td>Udaipur</td><td>H1008</td><td>40</td></tr><tr><td>118913</td><td>Chanak</td><td>Male</td><td>Malaria</td><td>Jalandhar</td><td>H1004</td><td>70</td></tr><tr><td>167423</td><td>Chittesh</td><td>Male</td><td>Asthma</td><td>Thoothukudi</td><td>H1019</td><td>75</td></tr><tr><td>141703</td><td>Nawal</td><td>Male</td><td>Fractures</td><td>Bhopal</td><td>H1006</td><td>84</td></tr><tr><td>173518</td><td>Gajabahu</td><td>Male</td><td>Malaria</td><td>Udupi</td><td>H1015</td><td>65</td></tr><tr><td>140394</td><td>Jitesh</td><td>Male</td><td>Anthrax</td><td>Karimnagar</td><td>H1010</td><td>41</td></tr><tr><td>164524</td><td>Visitor/NA</td><td>Female</td><td>Mold allergy</td><td>Kharagpur</td><td>H1015</td><td>58</td></tr><tr><td>198182</td><td>Lalit</td><td>Female</td><td>Head banging</td><td>Tinsukia</td><td>H1017</td><td>100</td></tr><tr><td>115143</td><td>Anshuk</td><td>Male</td><td>Drug consumption</td><td>Uluberia</td><td>H1001</td><td>33</td></tr><tr><td>156364</td><td>Visitor/NA</td><td>Male</td><td>Cholera</td><td>Panihati</td><td>H1019</td><td>30</td></tr><tr><td>191132</td><td>Dipesh</td><td>Female</td><td>Glaucoma</td><td>Kochi</td><td>H1016</td><td>75</td></tr><tr><td>105686</td><td>Visitor/NA</td><td>Male</td><td>Hepatitis</td><td>Kolhapur</td><td>H1008</td><td>94</td></tr><tr><td>160140</td><td>Kishan</td><td>Male</td><td>Rett Syndrome</td><td>Srikakulam</td><td>H1002</td><td>101</td></tr><tr><td>114252</td><td>Visitor/NA</td><td>Female</td><td>Diabetes</td><td>Ambarnath</td><td>H1014</td><td>97</td></tr><tr><td>188365</td><td>Bhageeratha</td><td>Male</td><td>Pet allergy</td><td>Sonipat</td><td>H1017</td><td>51</td></tr></tbody></table></div>"
      ]
     },
     "metadata": {
      "application/vnd.databricks.v1+output": {
       "addedWidgets": {},
       "aggData": [],
       "aggError": "",
       "aggOverflow": false,
       "aggSchema": [],
       "aggSeriesLimitReached": false,
       "aggType": "",
       "arguments": {},
       "columnCustomDisplayInfos": {},
       "data": [
        [
         "187158",
         "Harbir",
         "Female",
         "Galactosemia",
         "Rourkela",
         "H1001",
         100
        ],
        [
         "112766",
         "Brahmdev",
         "Female",
         "Bladder cancer",
         "Tiruvottiyur",
         "H1016",
         75
        ],
        [
         "199252",
         "Ujjawal",
         "Male",
         "Kidney cancer",
         "Berhampur",
         "H1009",
         44
        ],
        [
         "133424",
         "Ballari",
         "Female",
         "Suicide",
         "Bihar Sharif",
         "H1017",
         55
        ],
        [
         "172579",
         "Devnath",
         "Female",
         "Food allergy",
         "Bidhannagar",
         "H1019",
         78
        ],
        [
         "171320",
         "Atasi",
         "Male",
         "Whiplash",
         "Amravati",
         "H1013",
         57
        ],
        [
         "107794",
         "Manish",
         "Male",
         "Sunbathing",
         "Panvel",
         "H1004",
         57
        ],
        [
         "130339",
         "Aakar",
         "Female",
         "Drug consumption",
         "Bihar Sharif",
         "H1000",
         99
        ],
        [
         "110377",
         "Gurudas",
         "Male",
         "Dengue",
         "Kamarhati",
         "H1001",
         79
        ],
        [
         "149367",
         "Visitor/NA",
         "Male",
         "Head banging",
         "Bangalore",
         "H1013",
         99
        ],
        [
         "156168",
         "Visitor/NA",
         "Male",
         "Fanconi anaemia",
         "Rajkot",
         "H1004",
         48
        ],
        [
         "114241",
         "Visitor/NA",
         "Female",
         "Breast cancer",
         "Ghaziabad",
         "H1015",
         69
        ],
        [
         "146382",
         "Dharmadaas",
         "Male",
         "Anthrax",
         "Bhalswa Jahangir Pur",
         "H1019",
         60
        ],
        [
         "132748",
         "Brahmvir",
         "Male",
         "Cystic fibrosis",
         "Ambala",
         "H1018",
         33
        ],
        [
         "167340",
         "Visitor/NA",
         "Female",
         "Galactosemia",
         "Surendranagar Dudhrej",
         "H1003",
         43
        ],
        [
         "135184",
         "Bhagvan",
         "Female",
         "Dengue",
         "Bhimavaram",
         "H1018",
         58
        ],
        [
         "179662",
         "Amritkala",
         "Female",
         "Smallpox",
         "Meerut",
         "H1018",
         90
        ],
        [
         "184479",
         "Bandhu",
         "Male",
         "Pollen allergy",
         "Chinsurah",
         "H1010",
         28
        ],
        [
         "156988",
         "Bhagavaana",
         "Female",
         "Breast cancer",
         "Shahjahanpur",
         "H1012",
         89
        ],
        [
         "132870",
         "Visitor/NA",
         "Female",
         "Glaucoma",
         "Jabalpur",
         "H1017",
         100
        ],
        [
         "148137",
         "Umang",
         "Female",
         "Pet allergy",
         "Haridwar",
         "H1002",
         61
        ],
        [
         "113280",
         "Darsana",
         "Male",
         "Rett Syndrome",
         "Dibrugarh",
         "H1019",
         92
        ],
        [
         "134184",
         "Prakash",
         "Female",
         "Flu",
         "Kottayam",
         "H1001",
         101
        ],
        [
         "122592",
         "Vaijayanti",
         "Male",
         "Cholera",
         "Mira-Bhayandar",
         "H1009",
         104
        ],
        [
         "154439",
         "Menakshi",
         "Male",
         "Scurvy",
         "Kamarhati",
         "H1016",
         37
        ],
        [
         "117945",
         "Visitor/NA",
         "Male",
         "Glaucoma",
         "Karimnagar",
         "H1009",
         68
        ],
        [
         "189996",
         "Ekant",
         "Male",
         "Measles",
         "Berhampore",
         "H1003",
         81
        ],
        [
         "146540",
         "Chancharik",
         "Male",
         "Scurvy",
         "Chapra",
         "H1012",
         41
        ],
        [
         "156434",
         "Pushti",
         "Female",
         "Flu",
         "Morbi",
         "H1019",
         89
        ],
        [
         "197352",
         "Swati",
         "Female",
         "Pet allergy",
         "Amravati",
         "H1019",
         36
        ],
        [
         "138778",
         "Upasana",
         "Male",
         "Lymphedema",
         "Hyderabad",
         "H1005",
         68
        ],
        [
         "162665",
         "Kanhaiya",
         "Female",
         "Alcohol consumption",
         "Mysore",
         "H1009",
         70
        ],
        [
         "197503",
         "Visitor/NA",
         "Female",
         "Stroke",
         "Gwalior",
         "H1009",
         56
        ],
        [
         "113476",
         "Gensho",
         "Male",
         "Galactosemia",
         "Ludhiana",
         "H1016",
         32
        ],
        [
         "195876",
         "Gopal",
         "Male",
         "Vertigo",
         "Raebareli",
         "H1017",
         38
        ],
        [
         "150189",
         "Dheeman",
         "Male",
         "Measles",
         "Mysore",
         "H1017",
         79
        ],
        [
         "138861",
         "Upasana",
         "Female",
         "Heart Attack",
         "Ratlam",
         "H1004",
         97
        ],
        [
         "146555",
         "Visitor/NA",
         "Male",
         "Phenylketonuria",
         "Vadodara",
         "H1007",
         76
        ],
        [
         "199114",
         "Visitor/NA",
         "Female",
         "Phenylketonuria",
         "Vijayawada",
         "H1017",
         69
        ],
        [
         "105758",
         "Madhubala",
         "Male",
         "Head banging",
         "Jaunpur",
         "H1003",
         87
        ],
        [
         "109251",
         "Anjushree",
         "Male",
         "Choking",
         "Ghaziabad",
         "H1001",
         48
        ],
        [
         "156223",
         "Visitor/NA",
         "Female",
         "Fanconi anaemia",
         "Agartala",
         "H1012",
         93
        ],
        [
         "108576",
         "Chakrika",
         "Male",
         "Stroke",
         "Ranchi",
         "H1003",
         60
        ],
        [
         "132947",
         "Saroj",
         "Female",
         "Anaemia",
         "Muzaffarpur",
         "H1016",
         82
        ],
        [
         "148674",
         "Ayushmati",
         "Male",
         "Diabetes",
         "Satna",
         "H1016",
         92
        ],
        [
         "133107",
         "Drashti",
         "Male",
         "Lymphedema",
         "Saharsa",
         "H1019",
         98
        ],
        [
         "193137",
         "Aayushmaan",
         "Female",
         "Phenylketonuria",
         "Mehsana",
         "H1014",
         41
        ],
        [
         "196369",
         "Visitor/NA",
         "Male",
         "Choking",
         "Shivpuri",
         "H1017",
         93
        ],
        [
         "109342",
         "Chitranjan",
         "Female",
         "Asthma",
         "Morbi",
         "H1011",
         99
        ],
        [
         "121783",
         "Paridhi",
         "Female",
         "Bladder cancer",
         "Jabalpur",
         "H1013",
         65
        ],
        [
         "197441",
         "Deependu",
         "Female",
         "Lung cancer",
         "Bareilly",
         "H1001",
         72
        ],
        [
         "194166",
         "Visitor/NA",
         "Male",
         "Colorectal cancer",
         "Baranagar",
         "H1015",
         78
        ],
        [
         "110690",
         "Laksman",
         "Female",
         "Food Poisoning",
         "Ahmednagar",
         "H1001",
         85
        ],
        [
         "180709",
         "Visitor/NA",
         "Male",
         "Anthrax",
         "Pali",
         "H1017",
         36
        ],
        [
         "119268",
         "Shivakari",
         "Female",
         "Mold allergy",
         "Hapur",
         "H1008",
         80
        ],
        [
         "163148",
         "Madhu",
         "Male",
         "Beriberi",
         "Udaipur",
         "H1008",
         40
        ],
        [
         "118913",
         "Chanak",
         "Male",
         "Malaria",
         "Jalandhar",
         "H1004",
         70
        ],
        [
         "167423",
         "Chittesh",
         "Male",
         "Asthma",
         "Thoothukudi",
         "H1019",
         75
        ],
        [
         "141703",
         "Nawal",
         "Male",
         "Fractures",
         "Bhopal",
         "H1006",
         84
        ],
        [
         "173518",
         "Gajabahu",
         "Male",
         "Malaria",
         "Udupi",
         "H1015",
         65
        ],
        [
         "140394",
         "Jitesh",
         "Male",
         "Anthrax",
         "Karimnagar",
         "H1010",
         41
        ],
        [
         "164524",
         "Visitor/NA",
         "Female",
         "Mold allergy",
         "Kharagpur",
         "H1015",
         58
        ],
        [
         "198182",
         "Lalit",
         "Female",
         "Head banging",
         "Tinsukia",
         "H1017",
         100
        ],
        [
         "115143",
         "Anshuk",
         "Male",
         "Drug consumption",
         "Uluberia",
         "H1001",
         33
        ],
        [
         "156364",
         "Visitor/NA",
         "Male",
         "Cholera",
         "Panihati",
         "H1019",
         30
        ],
        [
         "191132",
         "Dipesh",
         "Female",
         "Glaucoma",
         "Kochi",
         "H1016",
         75
        ],
        [
         "105686",
         "Visitor/NA",
         "Male",
         "Hepatitis",
         "Kolhapur",
         "H1008",
         94
        ],
        [
         "160140",
         "Kishan",
         "Male",
         "Rett Syndrome",
         "Srikakulam",
         "H1002",
         101
        ],
        [
         "114252",
         "Visitor/NA",
         "Female",
         "Diabetes",
         "Ambarnath",
         "H1014",
         97
        ],
        [
         "188365",
         "Bhageeratha",
         "Male",
         "Pet allergy",
         "Sonipat",
         "H1017",
         51
        ]
       ],
       "datasetInfos": [],
       "dbfsResultPath": null,
       "isJsonSchema": true,
       "metadata": {},
       "overflow": false,
       "plotOptions": {
        "customPlotOptions": {},
        "displayType": "table",
        "pivotAggregation": null,
        "pivotColumns": null,
        "xColumns": null,
        "yColumns": null
       },
       "removedWidgets": [],
       "schema": [
        {
         "metadata": "{}",
         "name": "Patient_id",
         "type": "\"string\""
        },
        {
         "metadata": "{}",
         "name": "Patient_name",
         "type": "\"string\""
        },
        {
         "metadata": "{}",
         "name": "patient_gender",
         "type": "\"string\""
        },
        {
         "metadata": "{}",
         "name": "disease_name",
         "type": "\"string\""
        },
        {
         "metadata": "{}",
         "name": "city",
         "type": "\"string\""
        },
        {
         "metadata": "{}",
         "name": "hospital_id",
         "type": "\"string\""
        },
        {
         "metadata": "{}",
         "name": "patient_age",
         "type": "\"integer\""
        }
       ],
       "type": "table"
      }
     },
     "output_type": "display_data"
    }
   ],
   "source": [
    "display(pat_data)"
   ]
  },
  {
   "cell_type": "code",
   "execution_count": 0,
   "metadata": {
    "application/vnd.databricks.v1+cell": {
     "cellMetadata": {
      "byteLimit": 2048000,
      "rowLimit": 10000
     },
     "inputWidgets": {},
     "nuid": "dfc39a98-3a30-4b23-8e4a-e143b6e76edc",
     "showTitle": false,
     "tableResultSettingsMap": {},
     "title": ""
    }
   },
   "outputs": [
    {
     "output_type": "execute_result",
     "data": {
      "text/plain": [
       "True"
      ]
     },
     "execution_count": 39,
     "metadata": {},
     "output_type": "execute_result"
    }
   ],
   "source": [
    "output_container_path = \"abfss://optum@optumsadls.dfs.core.windows.net/silver/\"\n",
    "pat_data.coalesce(1).write.mode(\"append\").option(\"header\", \"true\").format(\"com.databricks.spark.csv\").save(output_container_path)\n",
    "files = dbutils.fs.ls(output_container_path)\n",
    "output_file = [x for x in files if x.name.startswith(\"part-\")]\n",
    "dbutils.fs.mv(output_file[0].path, \"%s/PatientS.csv\" % output_container_path)"
   ]
  }
 ],
 "metadata": {
  "application/vnd.databricks.v1+notebook": {
   "dashboards": [],
   "environmentMetadata": {
    "base_environment": "",
    "client": "1"
   },
   "language": "python",
   "notebookMetadata": {
    "pythonIndentUnit": 2
   },
   "notebookName": "Patient transformation",
   "widgets": {}
  },
  "language_info": {
   "name": "python"
  }
 },
 "nbformat": 4,
 "nbformat_minor": 0
}
